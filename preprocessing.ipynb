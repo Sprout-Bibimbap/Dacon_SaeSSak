{
 "cells": [
  {
   "cell_type": "markdown",
   "metadata": {},
   "source": [
    "# 데이터 제작"
   ]
  },
  {
   "cell_type": "code",
   "execution_count": null,
   "metadata": {},
   "outputs": [],
   "source": [
    "import pandas as pd\n",
    "import matplotlib.pyplot as plt"
   ]
  },
  {
   "cell_type": "code",
   "execution_count": null,
   "metadata": {},
   "outputs": [],
   "source": [
    "import os\n",
    "import pandas as pd\n",
    "import json\n",
    "from tqdm import tqdm\n",
    "\n",
    "def process_json_files(folder_path):\n",
    "    # Initialize an empty list to store data\n",
    "    data_list = []\n",
    "    \n",
    "    # Walk through all subdirectories and files\n",
    "    for root, dirs, files in tqdm(os.walk(folder_path)):\n",
    "        for file in files:\n",
    "            if file.endswith(\".json\"):\n",
    "                # Construct the full file path\n",
    "                file_path = os.path.join(root, file)\n",
    "                \n",
    "                # Open and read the JSON file\n",
    "                with open(file_path, 'r', encoding='utf-8') as f:\n",
    "                    data = json.load(f)\n",
    "                \n",
    "                # Append the data to the list\n",
    "                data_list.append(data)\n",
    "    \n",
    "    # Normalize the JSON data\n",
    "    df = pd.json_normalize(data_list, sep='_')\n",
    "    \n",
    "    return df\n"
   ]
  },
  {
   "cell_type": "code",
   "execution_count": null,
   "metadata": {},
   "outputs": [],
   "source": [
    "# 1. AI챗봇\n",
    "\n",
    "# Example folder path (replace with the actual folder path)\n",
    "folder_path = r\"C:\\Users\\jwj51720\\Desktop\\장원준\\Dacon_SaeSSak\\data\\자유대화 음성(소아, 유아)\\Validation\\[라벨]1.AI챗봇\"\n",
    "\n",
    "# Process the JSON files and create the DataFrame\n",
    "result_df = process_json_files(folder_path)\n",
    "\n",
    "# Display the DataFrame\n",
    "print(result_df)"
   ]
  },
  {
   "cell_type": "code",
   "execution_count": null,
   "metadata": {},
   "outputs": [],
   "source": [
    "print(result_df.columns)\n",
    "result_df.columns = [\n",
    "    '음성인식결과',\n",
    "    '스크립트ID',\n",
    "    '파일명',\n",
    "    '녹음시간',\n",
    "    '녹음품질',\n",
    "    '녹음일시',\n",
    "    '스크립트셋번호',\n",
    "    '녹음환경',\n",
    "    '수집방법',\n",
    "    '지역',\n",
    "    '녹음도구',\n",
    "    '대화주제',\n",
    "    '성별',\n",
    "    '녹음자ID',\n",
    "    '나이'\n",
    "    ]"
   ]
  },
  {
   "cell_type": "code",
   "execution_count": null,
   "metadata": {},
   "outputs": [],
   "source": [
    "result_df.to_csv(\"./data/val_data.csv\", index=False)"
   ]
  },
  {
   "cell_type": "code",
   "execution_count": null,
   "metadata": {},
   "outputs": [],
   "source": [
    "# 2. 음성수집도구\n",
    "\n",
    "# Example folder path (replace with the actual folder path)\n",
    "folder_path = r\"C:\\Users\\jwj51720\\Desktop\\장원준\\Dacon_SaeSSak\\data\\자유대화 음성(소아, 유아)\\Validation\\[라벨]2.음성수집도구\"\n",
    "\n",
    "# Process the JSON files and create the DataFrame\n",
    "result_df = process_json_files(folder_path)\n",
    "\n",
    "# Display the DataFrame\n",
    "print(result_df)"
   ]
  },
  {
   "cell_type": "code",
   "execution_count": null,
   "metadata": {},
   "outputs": [],
   "source": [
    "print(result_df.columns)\n",
    "result_df.columns = [\n",
    "    '음성인식결과',\n",
    "    '스크립트ID',\n",
    "    '파일명',\n",
    "    '녹음시간',\n",
    "    '녹음품질',\n",
    "    '녹음일시',\n",
    "    '스크립트셋번호',\n",
    "    '녹음환경',\n",
    "    '수집방법',\n",
    "    '지역',\n",
    "    '녹음도구',\n",
    "    '대화주제',\n",
    "    '성별',\n",
    "    '녹음자ID',\n",
    "    '나이'\n",
    "    ]"
   ]
  },
  {
   "cell_type": "code",
   "execution_count": null,
   "metadata": {},
   "outputs": [],
   "source": [
    "result_df.to_csv(\"./data/val_data2.csv\", index=False)"
   ]
  },
  {
   "cell_type": "code",
   "execution_count": null,
   "metadata": {},
   "outputs": [],
   "source": [
    "# 3. 스튜디오\n",
    "\n",
    "# Example folder path (replace with the actual folder path)\n",
    "folder_path = r\"C:\\Users\\jwj51720\\Desktop\\장원준\\Dacon_SaeSSak\\data\\자유대화 음성(소아, 유아)\\Validation\\[라벨]3.스튜디오\"\n",
    "\n",
    "# Process the JSON files and create the DataFrame\n",
    "result_df = process_json_files(folder_path)\n",
    "\n",
    "# Display the DataFrame\n",
    "print(result_df)"
   ]
  },
  {
   "cell_type": "code",
   "execution_count": null,
   "metadata": {},
   "outputs": [],
   "source": [
    "print(result_df.columns)\n",
    "result_df.columns = [\n",
    "    '음성인식결과',\n",
    "    '스크립트ID',\n",
    "    '파일명',\n",
    "    '녹음시간',\n",
    "    '녹음품질',\n",
    "    '녹음일시',\n",
    "    '스크립트셋번호',\n",
    "    '녹음환경',\n",
    "    '수집방법',\n",
    "    '지역',\n",
    "    '녹음도구',\n",
    "    '대화주제',\n",
    "    '성별',\n",
    "    '녹음자ID',\n",
    "    '나이'\n",
    "    ]"
   ]
  },
  {
   "cell_type": "code",
   "execution_count": null,
   "metadata": {},
   "outputs": [],
   "source": [
    "result_df.to_csv(\"./data/val_data3.csv\", index=False)"
   ]
  },
  {
   "cell_type": "markdown",
   "metadata": {},
   "source": [
    "# 데이터 Load 및 EDA"
   ]
  },
  {
   "cell_type": "code",
   "execution_count": null,
   "metadata": {},
   "outputs": [],
   "source": [
    "df1 = pd.read_csv(\"./data/val_data.csv\")\n",
    "df2 = pd.read_csv(\"./data/val_data2.csv\")\n",
    "df3 = pd.read_csv(\"./data/val_data3.csv\")"
   ]
  },
  {
   "cell_type": "code",
   "execution_count": null,
   "metadata": {},
   "outputs": [],
   "source": [
    "print(len(df1))\n",
    "print(len(df2))\n",
    "print(len(df3))"
   ]
  },
  {
   "cell_type": "code",
   "execution_count": null,
   "metadata": {},
   "outputs": [],
   "source": [
    "display(df1.head(3))\n",
    "display(df2.head(3))\n",
    "display(df3.head(3))"
   ]
  },
  {
   "cell_type": "code",
   "execution_count": null,
   "metadata": {},
   "outputs": [],
   "source": [
    "df = pd.concat([df1, df2, df3], axis=0)"
   ]
  },
  {
   "cell_type": "code",
   "execution_count": null,
   "metadata": {},
   "outputs": [],
   "source": [
    "df"
   ]
  },
  {
   "cell_type": "code",
   "execution_count": null,
   "metadata": {},
   "outputs": [],
   "source": [
    "\n",
    "df = df.astype({\n",
    "    '음성인식결과': 'string',\n",
    "    '스크립트ID': 'string',\n",
    "    '파일명': 'string',\n",
    "    \"녹음시간\": \"float32\",\n",
    "    \"녹음품질\": \"string\",\n",
    "    \"녹음일시\": \"string\",\n",
    "    \"스크립트셋번호\": \"string\",\n",
    "    \"녹음환경\": \"string\",\n",
    "    \"수집방법\": \"string\",\n",
    "    \"지역\": \"string\",\n",
    "    \"녹음도구\": \"string\",\n",
    "    \"대화주제\": \"string\",\n",
    "    \"성별\": \"string\",\n",
    "    \"녹음자ID\": \"string\",\n",
    "    \"나이\": \"int32\"\n",
    "})\n",
    "df.to_csv(\"./data/validation.csv\", index=False)\n",
    "df.to_parquet(\"./data/validation.parquet\", index=False)"
   ]
  },
  {
   "cell_type": "code",
   "execution_count": null,
   "metadata": {},
   "outputs": [],
   "source": [
    "print(len(df))\n",
    "print(len(df.drop_duplicates()))"
   ]
  },
  {
   "cell_type": "code",
   "execution_count": null,
   "metadata": {},
   "outputs": [],
   "source": [
    "# 음성인식결과는 INPUT\n",
    "print(df[\"음성인식결과\"].value_counts())\n",
    "df[df[\"음성인식결과\"] == \"다음 이 시간 뭐야 음악이야\"]"
   ]
  },
  {
   "cell_type": "code",
   "execution_count": null,
   "metadata": {},
   "outputs": [],
   "source": [
    "# 지역과 성별은 좋은 힌트가 될 수도... 말투의 변화나 관심사의 변호가 있을 수 있음.\n",
    "print(df[\"지역\"].value_counts()) # 수도권에 집중되어 있음\n",
    "print(df[\"성별\"].value_counts()) # 거의 비슷한 값"
   ]
  },
  {
   "cell_type": "code",
   "execution_count": null,
   "metadata": {},
   "outputs": [],
   "source": [
    "import matplotlib.pyplot as plt\n",
    "\n",
    "# 대화주제는 아이가 주제에 얼마나 잘 맞추는지를 평가할 수 있는 지표가 될 수 있음\n",
    "# 집중력? 같은 지표로 제시 가능\n",
    "print(df[\"대화주제\"].value_counts()) # 1201개나 존재\n",
    "\n",
    "def plot_value_counts(value_counts):\n",
    "    # Sort the value counts\n",
    "    sorted_counts = value_counts.sort_values(ascending=False)\n",
    "    \n",
    "    # Create the plot\n",
    "    plt.figure(figsize=(14, 7))\n",
    "    plt.bar(range(len(sorted_counts)), sorted_counts)\n",
    "    \n",
    "    # Add labels and title\n",
    "    plt.xlabel('Categories')\n",
    "    plt.ylabel('Counts')\n",
    "    plt.title('Value Counts Distribution')\n",
    "    \n",
    "    # Show the plot\n",
    "    plt.show()\n",
    "\n",
    "plot_value_counts(df[\"대화주제\"].value_counts()) # 특정 주제에 집중되어 있음"
   ]
  },
  {
   "cell_type": "code",
   "execution_count": null,
   "metadata": {},
   "outputs": [],
   "source": [
    "# 나이는 OUTPUT LABEL\n",
    "df[\"나이\"].value_counts() # 3세 데이터가 많지는 않다."
   ]
  },
  {
   "cell_type": "markdown",
   "metadata": {},
   "source": [
    "# 데이터 허깅페이스에 저장"
   ]
  },
  {
   "cell_type": "markdown",
   "metadata": {},
   "source": [
    "- 원본 데이터 저장"
   ]
  },
  {
   "cell_type": "code",
   "execution_count": null,
   "metadata": {},
   "outputs": [],
   "source": [
    "from huggingface_hub import HfApi\n",
    "from dotenv import load_dotenv\n",
    "import os"
   ]
  },
  {
   "cell_type": "code",
   "execution_count": null,
   "metadata": {},
   "outputs": [],
   "source": [
    "load_dotenv()\n",
    "api_key = os.getenv(\"HF_API_KEY\")\n",
    "api = HfApi()\n",
    "repo_id = \"SaeSSak/Conversation\"\n",
    "file_in_repo = \"OriginalData.parquet\"\n",
    "\n",
    "# 기존 파일 삭제\n",
    "api.delete_file(\n",
    "    path_in_repo=file_in_repo,\n",
    "    repo_id=repo_id,\n",
    "    repo_type=\"dataset\",\n",
    "    token=api_key\n",
    ")\n",
    "\n",
    "# 다시 올리기\n",
    "api.upload_file(\n",
    "        path_or_fileobj=\"data/validation.parquet\", # Local 데이터 경로\n",
    "        path_in_repo=file_in_repo, # Repo에 저장하고자 하는 이름 (parquet 권장)\n",
    "        repo_id=repo_id, # 저장소 이름\n",
    "        repo_type=\"dataset\", # 저장소의 Type\n",
    "        token=api_key # 나의 API 키\n",
    "    )"
   ]
  },
  {
   "cell_type": "markdown",
   "metadata": {},
   "source": [
    "- 필요한 데이터만 추출 & 허깅페이스에 저장"
   ]
  },
  {
   "cell_type": "code",
   "execution_count": null,
   "metadata": {},
   "outputs": [],
   "source": [
    "df2 = df[[\"음성인식결과\", \"지역\", \"성별\", \"대화주제\", \"나이\"]]"
   ]
  },
  {
   "cell_type": "code",
   "execution_count": null,
   "metadata": {},
   "outputs": [],
   "source": [
    "print(len(df2))\n",
    "print(len(df2.drop_duplicates()))\n",
    "df = df2.drop_duplicates()"
   ]
  },
  {
   "cell_type": "code",
   "execution_count": null,
   "metadata": {},
   "outputs": [],
   "source": [
    "df.to_csv(\"./data/validation_preprocessing.csv\", index=False)\n",
    "df.to_parquet(\"./data/validation_preprocessing.parquet\", index=False)"
   ]
  },
  {
   "cell_type": "code",
   "execution_count": null,
   "metadata": {},
   "outputs": [],
   "source": [
    "from huggingface_hub import HfApi\n",
    "from dotenv import load_dotenv\n",
    "import os"
   ]
  },
  {
   "cell_type": "code",
   "execution_count": null,
   "metadata": {},
   "outputs": [],
   "source": [
    "load_dotenv()\n",
    "api_key = os.getenv(\"HF_API_KEY\")\n",
    "api = HfApi()\n",
    "repo_id = \"SaeSSak/Conversation\"\n",
    "file_in_repo = \"PreprocessedData.parquet\"\n",
    "\n",
    "# 기존 파일 삭제\n",
    "api.delete_file(\n",
    "    path_in_repo=file_in_repo,\n",
    "    repo_id=repo_id,\n",
    "    repo_type=\"dataset\",\n",
    "    token=api_key\n",
    ")\n",
    "\n",
    "api.upload_file(\n",
    "        path_or_fileobj=\"data/validation_preprocessing.parquet\", # Local 데이터 경로\n",
    "        path_in_repo=file_in_repo, # Repo에 저장하고자 하는 이름 (parquet 권장)\n",
    "        repo_id=repo_id, # 저장소 이름\n",
    "        repo_type=\"dataset\", # 저장소의 Type\n",
    "        token=api_key # 나의 API 키\n",
    "    )"
   ]
  },
  {
   "cell_type": "markdown",
   "metadata": {},
   "source": [
    "# 데이터 불러오기"
   ]
  },
  {
   "cell_type": "code",
   "execution_count": null,
   "metadata": {},
   "outputs": [],
   "source": [
    "from huggingface_hub import hf_hub_download\n",
    "import pandas as pd\n",
    "from dotenv import load_dotenv\n",
    "import os\n",
    "\n",
    "load_dotenv()\n",
    "api_key = os.getenv(\"HF_API_KEY\")\n",
    "\n",
    "repo_id = \"SaeSSak/Conversation\"\n",
    "file_path = hf_hub_download(repo_id, \"PreprocessedData.parquet\", repo_type=\"dataset\", use_auth_token=api_key)\n",
    "\n",
    "# 파일 로드\n",
    "df = pd.read_parquet(file_path)"
   ]
  },
  {
   "cell_type": "code",
   "execution_count": 64,
   "metadata": {},
   "outputs": [
    {
     "data": {
      "text/html": [
       "<div>\n",
       "<style scoped>\n",
       "    .dataframe tbody tr th:only-of-type {\n",
       "        vertical-align: middle;\n",
       "    }\n",
       "\n",
       "    .dataframe tbody tr th {\n",
       "        vertical-align: top;\n",
       "    }\n",
       "\n",
       "    .dataframe thead th {\n",
       "        text-align: right;\n",
       "    }\n",
       "</style>\n",
       "<table border=\"1\" class=\"dataframe\">\n",
       "  <thead>\n",
       "    <tr style=\"text-align: right;\">\n",
       "      <th></th>\n",
       "      <th>음성인식결과</th>\n",
       "      <th>지역</th>\n",
       "      <th>성별</th>\n",
       "      <th>대화주제</th>\n",
       "      <th>나이</th>\n",
       "    </tr>\n",
       "  </thead>\n",
       "  <tbody>\n",
       "    <tr>\n",
       "      <th>0</th>\n",
       "      <td>너 리코더 가져 왔어</td>\n",
       "      <td>수도권</td>\n",
       "      <td>여</td>\n",
       "      <td>학교 생활</td>\n",
       "      <td>8</td>\n",
       "    </tr>\n",
       "    <tr>\n",
       "      <th>1</th>\n",
       "      <td>내 알림장이 없어졌어</td>\n",
       "      <td>수도권</td>\n",
       "      <td>여</td>\n",
       "      <td>학교 생활</td>\n",
       "      <td>8</td>\n",
       "    </tr>\n",
       "    <tr>\n",
       "      <th>2</th>\n",
       "      <td>우리 내일 숙제가 뭐야</td>\n",
       "      <td>수도권</td>\n",
       "      <td>여</td>\n",
       "      <td>학교 생활</td>\n",
       "      <td>8</td>\n",
       "    </tr>\n",
       "    <tr>\n",
       "      <th>3</th>\n",
       "      <td>색종이 가져왔어</td>\n",
       "      <td>수도권</td>\n",
       "      <td>여</td>\n",
       "      <td>학교 생활</td>\n",
       "      <td>8</td>\n",
       "    </tr>\n",
       "    <tr>\n",
       "      <th>4</th>\n",
       "      <td>가위랑 풀도 있어야 돼</td>\n",
       "      <td>수도권</td>\n",
       "      <td>여</td>\n",
       "      <td>학교 생활</td>\n",
       "      <td>8</td>\n",
       "    </tr>\n",
       "    <tr>\n",
       "      <th>...</th>\n",
       "      <td>...</td>\n",
       "      <td>...</td>\n",
       "      <td>...</td>\n",
       "      <td>...</td>\n",
       "      <td>...</td>\n",
       "    </tr>\n",
       "    <tr>\n",
       "      <th>218084</th>\n",
       "      <td>나도 발레 배우는데</td>\n",
       "      <td>수도권</td>\n",
       "      <td>남</td>\n",
       "      <td>발레</td>\n",
       "      <td>10</td>\n",
       "    </tr>\n",
       "    <tr>\n",
       "      <th>218085</th>\n",
       "      <td>유치원 때부터 배웠어</td>\n",
       "      <td>수도권</td>\n",
       "      <td>남</td>\n",
       "      <td>발레</td>\n",
       "      <td>10</td>\n",
       "    </tr>\n",
       "    <tr>\n",
       "      <th>218086</th>\n",
       "      <td>다리를 모아야 돼</td>\n",
       "      <td>수도권</td>\n",
       "      <td>남</td>\n",
       "      <td>발레</td>\n",
       "      <td>10</td>\n",
       "    </tr>\n",
       "    <tr>\n",
       "      <th>218087</th>\n",
       "      <td>무릎이 붙어야 하는 거야</td>\n",
       "      <td>수도권</td>\n",
       "      <td>남</td>\n",
       "      <td>발레</td>\n",
       "      <td>10</td>\n",
       "    </tr>\n",
       "    <tr>\n",
       "      <th>218088</th>\n",
       "      <td>손을 위로 올리고 왼쪽 다리를 내밀어야 돼</td>\n",
       "      <td>수도권</td>\n",
       "      <td>남</td>\n",
       "      <td>발레</td>\n",
       "      <td>10</td>\n",
       "    </tr>\n",
       "  </tbody>\n",
       "</table>\n",
       "<p>218089 rows × 5 columns</p>\n",
       "</div>"
      ],
      "text/plain": [
       "                         음성인식결과   지역 성별   대화주제  나이\n",
       "0                   너 리코더 가져 왔어  수도권  여  학교 생활   8\n",
       "1                  내 알림장이 없어졌어   수도권  여  학교 생활   8\n",
       "2                  우리 내일 숙제가 뭐야  수도권  여  학교 생활   8\n",
       "3                     색종이 가져왔어   수도권  여  학교 생활   8\n",
       "4                 가위랑 풀도 있어야 돼   수도권  여  학교 생활   8\n",
       "...                         ...  ... ..    ...  ..\n",
       "218084               나도 발레 배우는데  수도권  남     발레  10\n",
       "218085              유치원 때부터 배웠어  수도권  남     발레  10\n",
       "218086                다리를 모아야 돼  수도권  남     발레  10\n",
       "218087            무릎이 붙어야 하는 거야  수도권  남     발레  10\n",
       "218088  손을 위로 올리고 왼쪽 다리를 내밀어야 돼  수도권  남     발레  10\n",
       "\n",
       "[218089 rows x 5 columns]"
      ]
     },
     "execution_count": 64,
     "metadata": {},
     "output_type": "execute_result"
    }
   ],
   "source": [
    "df"
   ]
  }
 ],
 "metadata": {
  "kernelspec": {
   "display_name": "Python 3",
   "language": "python",
   "name": "python3"
  },
  "language_info": {
   "codemirror_mode": {
    "name": "ipython",
    "version": 3
   },
   "file_extension": ".py",
   "mimetype": "text/x-python",
   "name": "python",
   "nbconvert_exporter": "python",
   "pygments_lexer": "ipython3",
   "version": "3.10.8"
  }
 },
 "nbformat": 4,
 "nbformat_minor": 2
}
