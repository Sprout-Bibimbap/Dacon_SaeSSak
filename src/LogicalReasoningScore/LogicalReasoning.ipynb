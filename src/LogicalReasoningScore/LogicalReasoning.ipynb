{
  "cells": [
    {
      "cell_type": "code",
      "execution_count": null,
      "metadata": {
        "colab": {
          "base_uri": "https://localhost:8080/"
        },
        "id": "s--wuxM7MifM",
        "outputId": "fc6e72ea-a430-467c-e13e-9e05fea75460"
      },
      "outputs": [
        {
          "name": "stdout",
          "output_type": "stream",
          "text": [
            "Requirement already satisfied: requests in /usr/local/lib/python3.10/dist-packages (2.31.0)\n",
            "Requirement already satisfied: charset-normalizer<4,>=2 in /usr/local/lib/python3.10/dist-packages (from requests) (3.3.2)\n",
            "Requirement already satisfied: idna<4,>=2.5 in /usr/local/lib/python3.10/dist-packages (from requests) (3.7)\n",
            "Requirement already satisfied: urllib3<3,>=1.21.1 in /usr/local/lib/python3.10/dist-packages (from requests) (2.0.7)\n",
            "Requirement already satisfied: certifi>=2017.4.17 in /usr/local/lib/python3.10/dist-packages (from requests) (2024.7.4)\n"
          ]
        }
      ],
      "source": [
        "!pip install requests"
      ]
    },
    {
      "cell_type": "markdown",
      "metadata": {
        "id": "WnKjQ_cHND3y"
      },
      "source": [
        "# ChatGPT 불러오기\n",
        "\n",
        "- API 키를 지우는 것을 잊지 말자!"
      ]
    },
    {
      "cell_type": "code",
      "execution_count": null,
      "metadata": {
        "colab": {
          "base_uri": "https://localhost:8080/",
          "height": 662
        },
        "id": "cww4cP7INBSr",
        "outputId": "0fdd908f-ab5f-4ea9-f857-e5138ad5e81a"
      },
      "outputs": [
        {
          "ename": "Exception",
          "evalue": "Error: 429, {\n    \"error\": {\n        \"message\": \"You exceeded your current quota, please check your plan and billing details. For more information on this error, read the docs: https://platform.openai.com/docs/guides/error-codes/api-errors.\",\n        \"type\": \"insufficient_quota\",\n        \"param\": null,\n        \"code\": \"insufficient_quota\"\n    }\n}\n",
          "output_type": "error",
          "traceback": [
            "\u001b[0;31m---------------------------------------------------------------------------\u001b[0m",
            "\u001b[0;31mException\u001b[0m                                 Traceback (most recent call last)",
            "\u001b[0;32m<ipython-input-6-ba4d69ff6067>\u001b[0m in \u001b[0;36m<cell line: 71>\u001b[0;34m()\u001b[0m\n\u001b[1;32m     71\u001b[0m \u001b[0;32mfor\u001b[0m \u001b[0mquestion\u001b[0m \u001b[0;32min\u001b[0m \u001b[0mquestions\u001b[0m\u001b[0;34m:\u001b[0m\u001b[0;34m\u001b[0m\u001b[0;34m\u001b[0m\u001b[0m\n\u001b[1;32m     72\u001b[0m     \u001b[0mquestion_id\u001b[0m \u001b[0;34m=\u001b[0m \u001b[0mquestion\u001b[0m\u001b[0;34m[\u001b[0m\u001b[0;34m\"id\"\u001b[0m\u001b[0;34m]\u001b[0m\u001b[0;34m\u001b[0m\u001b[0;34m\u001b[0m\u001b[0m\n\u001b[0;32m---> 73\u001b[0;31m     \u001b[0mgenerated_answer\u001b[0m \u001b[0;34m=\u001b[0m \u001b[0mgenerate_expected_answer\u001b[0m\u001b[0;34m(\u001b[0m\u001b[0mapi_key\u001b[0m\u001b[0;34m,\u001b[0m \u001b[0mquestion\u001b[0m\u001b[0;34m[\u001b[0m\u001b[0;34m\"text\"\u001b[0m\u001b[0;34m]\u001b[0m\u001b[0;34m)\u001b[0m\u001b[0;34m\u001b[0m\u001b[0;34m\u001b[0m\u001b[0m\n\u001b[0m\u001b[1;32m     74\u001b[0m     \u001b[0mexpected_answers\u001b[0m\u001b[0;34m[\u001b[0m\u001b[0mquestion_id\u001b[0m\u001b[0;34m]\u001b[0m \u001b[0;34m=\u001b[0m \u001b[0mgenerated_answer\u001b[0m\u001b[0;34m\u001b[0m\u001b[0;34m\u001b[0m\u001b[0m\n\u001b[1;32m     75\u001b[0m     \u001b[0mprint\u001b[0m\u001b[0;34m(\u001b[0m\u001b[0;34mf\"Generated Expected Answer for Question ID {question_id}: {generated_answer}\\n\"\u001b[0m\u001b[0;34m)\u001b[0m\u001b[0;34m\u001b[0m\u001b[0;34m\u001b[0m\u001b[0m\n",
            "\u001b[0;32m<ipython-input-6-ba4d69ff6067>\u001b[0m in \u001b[0;36mgenerate_expected_answer\u001b[0;34m(api_key, question)\u001b[0m\n\u001b[1;32m     41\u001b[0m         \u001b[0;32mreturn\u001b[0m \u001b[0mresponse\u001b[0m\u001b[0;34m.\u001b[0m\u001b[0mjson\u001b[0m\u001b[0;34m(\u001b[0m\u001b[0;34m)\u001b[0m\u001b[0;34m[\u001b[0m\u001b[0;34m'choices'\u001b[0m\u001b[0;34m]\u001b[0m\u001b[0;34m[\u001b[0m\u001b[0;36m0\u001b[0m\u001b[0;34m]\u001b[0m\u001b[0;34m[\u001b[0m\u001b[0;34m'text'\u001b[0m\u001b[0;34m]\u001b[0m\u001b[0;34m.\u001b[0m\u001b[0mstrip\u001b[0m\u001b[0;34m(\u001b[0m\u001b[0;34m)\u001b[0m\u001b[0;34m\u001b[0m\u001b[0;34m\u001b[0m\u001b[0m\n\u001b[1;32m     42\u001b[0m     \u001b[0;32melse\u001b[0m\u001b[0;34m:\u001b[0m\u001b[0;34m\u001b[0m\u001b[0;34m\u001b[0m\u001b[0m\n\u001b[0;32m---> 43\u001b[0;31m         \u001b[0;32mraise\u001b[0m \u001b[0mException\u001b[0m\u001b[0;34m(\u001b[0m\u001b[0;34mf\"Error: {response.status_code}, {response.text}\"\u001b[0m\u001b[0;34m)\u001b[0m\u001b[0;34m\u001b[0m\u001b[0;34m\u001b[0m\u001b[0m\n\u001b[0m\u001b[1;32m     44\u001b[0m \u001b[0;34m\u001b[0m\u001b[0m\n\u001b[1;32m     45\u001b[0m \u001b[0;31m# Define a function to evaluate the answer\u001b[0m\u001b[0;34m\u001b[0m\u001b[0;34m\u001b[0m\u001b[0m\n",
            "\u001b[0;31mException\u001b[0m: Error: 429, {\n    \"error\": {\n        \"message\": \"You exceeded your current quota, please check your plan and billing details. For more information on this error, read the docs: https://platform.openai.com/docs/guides/error-codes/api-errors.\",\n        \"type\": \"insufficient_quota\",\n        \"param\": null,\n        \"code\": \"insufficient_quota\"\n    }\n}\n"
          ]
        }
      ],
      "source": [
        "import openai\n",
        "\n",
        "# OpenAI API 키 설정\n",
        "openai.api_key = 'YOUR_API_KEY_HERE'\n",
        "\n",
        "def evaluate_response(problem, answer, response):\n",
        "    criteria = [\n",
        "        \"내용이 정확한가\",\n",
        "        \"논리 전개의 합리성\",\n",
        "        \"표현이 분명하고 문법과 어휘가 적절한가\"\n",
        "    ]\n",
        "\n",
        "    # 질문과 기준을 넣어 AI에게 점수를 매기도록 요청\n",
        "    evaluation_prompt = f\"\"\"\n",
        "    문제: {problem}\n",
        "    해답: {answer}\n",
        "    아이의 대답: {response}\n",
        "\n",
        "    아이의 대답을 다음 4가지 기준으로 평가해 주세요:\n",
        "    1. 해답과 비교해서 대답이 정확한가\n",
        "    2. 논리 전개가 합리적인가\n",
        "    3. 표현이 분명하고 문법과 어휘가 적절한가\n",
        "\n",
        "    각 기준에 대해 0에서 10점 사이로 평가해 주세요.\n",
        "\n",
        "    평가:\n",
        "    1. 해답과 비교해서 대답이 정확한가:\n",
        "    2. 논리 전개가 합리적인가:\n",
        "    3. 표현이 분명하고 문법과 어휘가 적절한가:\n",
        "    총점:\n",
        "    \"\"\"\n",
        "\n",
        "    response = openai.Completion.create(\n",
        "        model=\"gpt-3.5-turbo\",\n",
        "        prompt=evaluation_prompt,\n",
        "        max_tokens=450\n",
        "    )\n",
        "\n",
        "    # AI의 응답을 파싱하여 점수를 반환\n",
        "    evaluation_text = response.choices[0].text.strip()\n",
        "    lines = evaluation_text.split('\\n')\n",
        "\n",
        "    scores = {}\n",
        "    for line in lines:\n",
        "        if ':' in line:\n",
        "            criterion, score = line.split(':')\n",
        "            criterion = criterion.strip()\n",
        "            score = score.strip()\n",
        "            if criterion in criteria:\n",
        "                scores[criterion] = int(score)\n",
        "\n",
        "    total_score = sum(scores.values())\n",
        "    scores[\"총점\"] = total_score\n",
        "\n",
        "    return scores\n",
        "\n",
        "# 예시 상황과 응답\n",
        "problem : \"두 친구가 함께 사과 5개와 오렌지 3개를 나눠 먹었어요. 각 친구가 똑같은 양의 과일을 먹었다면, 각 친구가 먹은 과일의 개수는 몇 개일까요?\",\n",
        "answer : \"각 친구는 사과 2개 반과 오렌지 1개 반을 먹었어요.\",\n",
        "child_response = \"잘 모르겠어요. 키위와 바나나를 3개씩 먹었나요?\"\n",
        "\n",
        "scores = evaluate_response(problem, answer,child_response)\n",
        "print(scores)"
      ]
    }
  ],
  "metadata": {
    "colab": {
      "provenance": []
    },
    "kernelspec": {
      "display_name": "Python 3",
      "name": "python3"
    },
    "language_info": {
      "name": "python"
    }
  },
  "nbformat": 4,
  "nbformat_minor": 0
}
