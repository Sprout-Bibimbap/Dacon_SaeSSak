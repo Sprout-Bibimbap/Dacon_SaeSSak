{
  "nbformat": 4,
  "nbformat_minor": 0,
  "metadata": {
    "colab": {
      "provenance": []
    },
    "kernelspec": {
      "name": "python3",
      "display_name": "Python 3"
    },
    "language_info": {
      "name": "python"
    }
  },
  "cells": [
    {
      "cell_type": "code",
      "execution_count": null,
      "metadata": {
        "id": "XfMFi9_RrFoM"
      },
      "outputs": [],
      "source": [
        "import openai\n",
        "\n",
        "# OpenAI API 키 설정\n",
        "openai.api_key = 'YOUR_API_KEY_HERE'"
      ]
    },
    {
      "cell_type": "code",
      "source": [
        "\n",
        "import openai\n",
        "\n",
        "# OpenAI API 키 설정\n",
        "openai.api_key = 'YOUR_API_KEY_HERE'\n",
        "\n",
        "def evaluate_response(scenario, response):\n",
        "    criteria = [\n",
        "        \"친구의 상황을 이해했는가\",\n",
        "        \"친구의 감정이 어떨지 잘 이야기하였는가\",\n",
        "        \"공감을 하거나 도와주려고 하는가\"\n",
        "    ]\n",
        "\n",
        "    # 질문과 기준을 넣어 AI에게 점수를 매기도록 요청\n",
        "    evaluation_prompt = f\"\"\"\n",
        "    상황: {scenario}\n",
        "    아이의 대답: {response}\n",
        "\n",
        "    아이의 대답을 다음 3가지 기준으로 평가해 주세요:\n",
        "    1. 친구의 상황을 이해했는가\n",
        "    2. 친구의 감정이 어떨지 잘 이야기하였는가\n",
        "    3. 공감을 하거나 도와주려고 하는가\n",
        "\n",
        "    각 기준에 대해 0에서 10점 사이로 평가해 주세요.\n",
        "\n",
        "    평가:\n",
        "    1. 친구의 상황을 이해했는가:\n",
        "    2. 친구의 감정이 어떨지 잘 이야기하였는가:\n",
        "    3. 공감을 하거나 도와주려고 하는가:\n",
        "    총점:\n",
        "    \"\"\"\n",
        "\n",
        "    response = openai.Completion.create(\n",
        "        model=\"text-davinci-003\",\n",
        "        prompt=evaluation_prompt,\n",
        "        max_tokens=450\n",
        "    )\n",
        "\n",
        "    # AI의 응답을 파싱하여 점수를 반환\n",
        "    evaluation_text = response.choices[0].text.strip()\n",
        "    lines = evaluation_text.split('\\n')\n",
        "\n",
        "    scores = {}\n",
        "    for line in lines:\n",
        "        if ':' in line:\n",
        "            criterion, score = line.split(':')\n",
        "            criterion = criterion.strip()\n",
        "            score = score.strip()\n",
        "            if criterion in criteria:\n",
        "                scores[criterion] = int(score)\n",
        "\n",
        "    total_score = sum(scores.values())\n",
        "    scores[\"총점\"] = total_score\n",
        "\n",
        "    return scores\n",
        "\n",
        "# 예시 상황과 응답\n",
        "scenario = \"친구가 넘어져서 무릎에서 피가 나요. 당신은 어떻게 할 건가요?\"\n",
        "child_response = \"저는 친구에게 다가가서 괜찮은지 물어보고, 필요한 도움을 줄 거예요.\"\n",
        "\n",
        "scores = evaluate_response(scenario, child_response)\n",
        "print(scores)"
      ],
      "metadata": {
        "id": "VTX6MVn6shUS"
      },
      "execution_count": null,
      "outputs": []
    }
  ]
}