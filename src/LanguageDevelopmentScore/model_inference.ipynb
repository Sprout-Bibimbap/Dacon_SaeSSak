{
 "cells": [
  {
   "cell_type": "markdown",
   "metadata": {},
   "source": [
    "# sBERT"
   ]
  },
  {
   "cell_type": "code",
   "execution_count": null,
   "metadata": {},
   "outputs": [],
   "source": [
    "from transformers import AutoModel, AutoTokenizer\n",
    "import torch.nn as nn\n",
    "import torch\n",
    "\n",
    "\n",
    "class sBERTRegressor(nn.Module):\n",
    "    def __init__(self, model_name, is_freeze) -> None:\n",
    "        super(sBERTRegressor, self).__init__()\n",
    "        self.sbert = AutoModel.from_pretrained(model_name)\n",
    "        self.regressor = nn.Linear(self.sbert.config.hidden_size, 1)\n",
    "\n",
    "        if is_freeze:\n",
    "            for param in self.sbert.parameters():\n",
    "                param.requires_grad = False\n",
    "\n",
    "    def forward(self, input_ids, attention_mask):\n",
    "        outputs = self.sbert(input_ids=input_ids, attention_mask=attention_mask)\n",
    "        cls_embedding = outputs.last_hidden_state[:, 0, :]  # [B, CLS Index, h]\n",
    "        regression_output = self.regressor(cls_embedding)\n",
    "        return regression_output.squeeze()\n",
    "    \n",
    "device = \"cuda\" if torch.cuda.is_available() else \"cpu\""
   ]
  },
  {
   "cell_type": "code",
   "execution_count": null,
   "metadata": {},
   "outputs": [],
   "source": [
    "model_name = \"snunlp/KR-SBERT-V40K-klueNLI-augSTS\" \n",
    "is_freeze = False  \n",
    "\n",
    "model = sBERTRegressor(model_name, is_freeze).to(device)\n",
    "tokenizer = AutoTokenizer.from_pretrained(model_name)\n",
    "\n",
    "trained_model = sBERTRegressor(model_name, is_freeze).to(device)\n",
    "model_path = \"checkpoints/sBERT_2024-07-03 17:15:29.pth\"\n",
    "trained_model.load_state_dict(torch.load(model_path))"
   ]
  },
  {
   "cell_type": "code",
   "execution_count": null,
   "metadata": {},
   "outputs": [],
   "source": [
    "example = \"으아아아\"\n",
    "max_length = 128\n",
    "encoded_text = tokenizer(example, return_tensors=\"pt\",max_length=max_length,padding=\"max_length\",truncation=True)\n",
    "iids = encoded_text[\"input_ids\"].to(device)\n",
    "atm = encoded_text[\"attention_mask\"].to(device)"
   ]
  },
  {
   "cell_type": "code",
   "execution_count": null,
   "metadata": {},
   "outputs": [],
   "source": [
    "print(\"학습되지 않은 모델:\",round(float(model(iids, atm)), 3), \"점\")\n",
    "print(\"학습된 모델:\",round(float(trained_model(iids, atm)), 3), \"점\")"
   ]
  }
 ],
 "metadata": {
  "kernelspec": {
   "display_name": "Python 3",
   "language": "python",
   "name": "python3"
  },
  "language_info": {
   "codemirror_mode": {
    "name": "ipython",
    "version": 3
   },
   "file_extension": ".py",
   "mimetype": "text/x-python",
   "name": "python",
   "nbconvert_exporter": "python",
   "pygments_lexer": "ipython3",
   "version": "3.10.12"
  }
 },
 "nbformat": 4,
 "nbformat_minor": 2
}
