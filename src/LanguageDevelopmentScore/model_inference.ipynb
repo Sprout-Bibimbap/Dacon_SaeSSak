{
 "cells": [
  {
   "cell_type": "markdown",
   "metadata": {},
   "source": [
    "# sBERT"
   ]
  },
  {
   "cell_type": "code",
   "execution_count": null,
   "metadata": {},
   "outputs": [],
   "source": [
    "from transformers import AutoModel, AutoTokenizer\n",
    "import torch.nn as nn\n",
    "import torch\n",
    "from sources.models import sBERTRegressor, sBERTRegressorNew, RoBERTaRegressor\n",
    "\n",
    "device = \"cuda\" if torch.cuda.is_available() else \"cpu\""
   ]
  },
  {
   "cell_type": "code",
   "execution_count": null,
   "metadata": {},
   "outputs": [],
   "source": [
    "model_name = \"snunlp/KR-SBERT-V40K-klueNLI-augSTS\" \n",
    "is_freeze = False  \n",
    "\n",
    "model = sBERTRegressor(model_name, is_freeze).to(device)\n",
    "tokenizer = AutoTokenizer.from_pretrained(model_name)\n",
    "\n",
    "trained_model = sBERTRegressor(model_name, is_freeze).to(device)\n",
    "model_path = \"checkpoints/sBERT_2024-07-03 17:15:29.pth\"\n",
    "trained_model.load_state_dict(torch.load(model_path))"
   ]
  },
  {
   "cell_type": "code",
   "execution_count": null,
   "metadata": {},
   "outputs": [],
   "source": [
    "example = \"으아아아\"\n",
    "max_length = 128\n",
    "encoded_text = tokenizer(example, return_tensors=\"pt\",max_length=max_length,padding=\"max_length\",truncation=True)\n",
    "iids = encoded_text[\"input_ids\"].to(device)\n",
    "atm = encoded_text[\"attention_mask\"].to(device)"
   ]
  },
  {
   "cell_type": "code",
   "execution_count": null,
   "metadata": {},
   "outputs": [],
   "source": [
    "print(\"학습되지 않은 모델:\",round(float(model(iids, atm)), 3), \"점\")\n",
    "print(\"학습된 모델:\",round(float(trained_model(iids, atm)), 3), \"점\")"
   ]
  },
  {
   "cell_type": "code",
   "execution_count": null,
   "metadata": {},
   "outputs": [],
   "source": [
    "device = \"cpu\"\n",
    "\n",
    "model_name = \"snunlp/KR-SBERT-V40K-klueNLI-augSTS\" \n",
    "is_freeze = True  \n",
    "\n",
    "model = sBERTRegressorNew(model_name, is_freeze, version=2).to(device)\n",
    "tokenizer = AutoTokenizer.from_pretrained(model_name)\n",
    "\n",
    "trained_model = sBERTRegressorNew(model_name, is_freeze, version=2).to(device)\n",
    "model_path = \"checkpoints/sBERTNewV2_2024-07-04_13-36-30.pth\"\n",
    "trained_model.load_state_dict(torch.load(model_path))"
   ]
  },
  {
   "cell_type": "code",
   "execution_count": null,
   "metadata": {},
   "outputs": [],
   "source": [
    "example = \"정말요???/????????????????????????????????????????????????/????????\"\n",
    "max_length = 128\n",
    "encoded_text = tokenizer(example, return_tensors=\"pt\",max_length=max_length,padding=\"max_length\",truncation=True)\n",
    "iids = encoded_text[\"input_ids\"].to(device)\n",
    "atm = encoded_text[\"attention_mask\"].to(device)"
   ]
  },
  {
   "cell_type": "code",
   "execution_count": null,
   "metadata": {},
   "outputs": [],
   "source": [
    "print(\"학습되지 않은 모델:\",round(float(model(iids, atm)), 3), \"점\")\n",
    "print(\"학습된 모델:\",round(float(trained_model(iids, atm)), 3), \"점\")"
   ]
  },
  {
   "cell_type": "markdown",
   "metadata": {},
   "source": [
    "# RoBERTa"
   ]
  },
  {
   "cell_type": "code",
   "execution_count": null,
   "metadata": {},
   "outputs": [],
   "source": [
    "from transformers import AutoModel, AutoTokenizer\n",
    "import torch.nn as nn\n",
    "import torch\n",
    "from sources.models import sBERTRegressor, sBERTRegressorNew, RoBERTaRegressor, RoBERTaRegressorNew, RoBERTaRegressorDeep\n",
    "\n",
    "device = \"cpu\"\n",
    "is_freeze = True\n",
    "sigmoid_scaling = False\n",
    "pooling_method = \"mean\"\n",
    "max_length = 64\n",
    "model_name = \"klue/roberta-large\" \n",
    "model_path = \"checkpoints/RoBERTaNew-Large_2024-07-15_10-03-19.pth\"  \n",
    "\n",
    "# model = RoBERTaRegressorNew(model_name, is_freeze, sigmoid_scaling, pooling_method).to(device)\n",
    "tokenizer = AutoTokenizer.from_pretrained(model_name)\n",
    "\n",
    "trained_model = RoBERTaRegressorNew(model_name, is_freeze, sigmoid_scaling, pooling_method).to(device)\n",
    "trained_model.load_state_dict(torch.load(model_path))\n",
    "\n",
    "# model.eval()\n",
    "trained_model.eval()"
   ]
  },
  {
   "cell_type": "code",
   "execution_count": null,
   "metadata": {},
   "outputs": [],
   "source": [
    "from huggingface_hub import hf_hub_download\n",
    "import pandas as pd\n",
    "from dotenv import load_dotenv\n",
    "import os\n",
    "\n",
    "load_dotenv()\n",
    "api_key = os.getenv(\"HF_API_KEY\")\n",
    "repo_id = \"SaeSSak/Conversation\"\n",
    "file_path = hf_hub_download(repo_id, \"TestData.parquet\", repo_type=\"dataset\", use_auth_token=api_key)\n",
    "\n",
    "# 파일 로드\n",
    "df = pd.read_parquet(file_path)\n",
    "example = list(df[\"음성인식결과\"])\n",
    "\n",
    "encoded_text = tokenizer(example, return_tensors=\"pt\",max_length=max_length,padding=\"max_length\",truncation=True)\n",
    "iids = encoded_text[\"input_ids\"].to(device)\n",
    "atm = encoded_text[\"attention_mask\"].to(device)"
   ]
  },
  {
   "cell_type": "code",
   "execution_count": null,
   "metadata": {},
   "outputs": [],
   "source": [
    "import torch\n",
    "\n",
    "# 모델 예측\n",
    "with torch.no_grad():\n",
    "    predictions = trained_model(iids, atm)\n",
    "\n",
    "# 그래디언트 추적 분리 및 NumPy 배열 변환\n",
    "predictions_numpy = predictions.detach().numpy()\n",
    "\n",
    "# 데이터프레임에 예측 결과 추가\n",
    "df[\"나이점수\"] = df[\"나이\"] * 10\n",
    "if sigmoid_scaling:\n",
    "    df[\"예측점수\"] = predictions_numpy * (100 - 30) + 30\n",
    "else:\n",
    "    df[\"예측점수\"] = predictions_numpy\n",
    "\n",
    "df[\"오차\"] = (df[\"나이점수\"] - df[\"예측점수\"]).abs()\n",
    "\n",
    "# 각 나이별로 편차 계산\n",
    "age_groups = df.groupby(\"나이\")[\"오차\"].mean().reset_index()\n",
    "overall_deviation = df[\"오차\"].mean()"
   ]
  },
  {
   "cell_type": "code",
   "execution_count": null,
   "metadata": {},
   "outputs": [],
   "source": [
    "for ag in age_groups.values:\n",
    "    print(\"나이:\", ag[0], \"  오차:\", round(ag[1], 2))\n",
    "print(\"MAE:\",overall_deviation)"
   ]
  },
  {
   "cell_type": "code",
   "execution_count": null,
   "metadata": {},
   "outputs": [],
   "source": [
    "import matplotlib.pyplot as plt\n",
    "#  그래프 그리기\n",
    "plt.figure(figsize=(10, 6))\n",
    "plt.plot(df.index, df[\"나이점수\"], color='black', label='Target')\n",
    "plt.plot(df.index, df[\"예측점수\"], color='red', label='Prediction')\n",
    "plt.xlabel('Index')\n",
    "plt.ylabel('Score')\n",
    "plt.title('Target - Prediction Graph')\n",
    "plt.legend()\n",
    "plt.show()"
   ]
  },
  {
   "cell_type": "code",
   "execution_count": null,
   "metadata": {},
   "outputs": [],
   "source": [
    "df[df[\"예측점수\"] > 80]"
   ]
  },
  {
   "cell_type": "code",
   "execution_count": null,
   "metadata": {},
   "outputs": [],
   "source": [
    "name = model_path.split(\"/\")[-1].split(\".\")[0]\n",
    "df.to_csv(f\"./result/{name}.csv\", index = False)"
   ]
  },
  {
   "cell_type": "markdown",
   "metadata": {},
   "source": [
    "# 모델 실험"
   ]
  },
  {
   "cell_type": "code",
   "execution_count": null,
   "metadata": {},
   "outputs": [],
   "source": [
    "device = \"cpu\""
   ]
  },
  {
   "cell_type": "code",
   "execution_count": null,
   "metadata": {},
   "outputs": [],
   "source": [
    "example = \"안녕하세요.\"\n",
    "max_length = 128\n",
    "encoded_text = tokenizer(example, return_tensors=\"pt\",max_length=max_length,padding=\"max_length\",truncation=True)\n",
    "iids = encoded_text[\"input_ids\"].to(device)\n",
    "atm = encoded_text[\"attention_mask\"].to(device)"
   ]
  },
  {
   "cell_type": "code",
   "execution_count": null,
   "metadata": {},
   "outputs": [],
   "source": [
    "model_name = \"snunlp/KR-SBERT-V40K-klueNLI-augSTS\" \n",
    "is_freeze = True \n",
    "sbert = AutoModel.from_pretrained(model_name).to(device)"
   ]
  },
  {
   "cell_type": "code",
   "execution_count": null,
   "metadata": {},
   "outputs": [],
   "source": [
    "outputs = sbert(input_ids=iids, attention_mask=atm)"
   ]
  },
  {
   "cell_type": "markdown",
   "metadata": {},
   "source": [
    "- mean pooling"
   ]
  },
  {
   "cell_type": "code",
   "execution_count": null,
   "metadata": {},
   "outputs": [],
   "source": [
    "def mean_pooling(model_output, attention_mask):\n",
    "    token_embeddings = model_output.last_hidden_state  # First element of model_output contains all token embeddings\n",
    "    input_mask_expanded = attention_mask.unsqueeze(-1).expand(token_embeddings.size()).float()\n",
    "    sum_embeddings = torch.sum(token_embeddings * input_mask_expanded, 1)\n",
    "    sum_mask = torch.clamp(input_mask_expanded.sum(1), min=1e-9)\n",
    "    return sum_embeddings / sum_mask"
   ]
  },
  {
   "cell_type": "code",
   "execution_count": null,
   "metadata": {},
   "outputs": [],
   "source": [
    "token_embeddings = outputs.last_hidden_state"
   ]
  },
  {
   "cell_type": "code",
   "execution_count": null,
   "metadata": {},
   "outputs": [],
   "source": [
    "token_embeddings = outputs.last_hidden_state\n",
    "print(token_embeddings.shape)\n",
    "input_mask_expanded = atm.unsqueeze(-1).expand(token_embeddings.size()).float()\n",
    "print(input_mask_expanded.shape)\n",
    "sum_embeddings = torch.sum(token_embeddings * input_mask_expanded, 1)\n",
    "print(sum_embeddings.shape)\n",
    "sum_mask = torch.clamp(input_mask_expanded.sum(1), min=1e-9)\n",
    "print(sum_embeddings.shape)\n",
    "(sum_embeddings / sum_mask).shape"
   ]
  },
  {
   "cell_type": "markdown",
   "metadata": {},
   "source": [
    "- attention pooling"
   ]
  },
  {
   "cell_type": "code",
   "execution_count": null,
   "metadata": {},
   "outputs": [],
   "source": [
    "import torch\n",
    "import torch.nn as nn\n",
    "import torch.nn.functional as F\n",
    "\n",
    "class AttentionLayer(nn.Module):\n",
    "    def __init__(self, hidden_size):\n",
    "        super(AttentionLayer, self).__init__()\n",
    "        self.attention_weights = nn.Parameter(torch.Tensor(hidden_size), requires_grad=True)\n",
    "        nn.init.xavier_uniform_(self.attention_weights.data)\n",
    "\n",
    "    def forward(self, token_embeddings, attention_mask):\n",
    "        # attention_mask를 사용하여 실제 토큰만 고려하도록 합니다.\n",
    "        attention_scores = torch.matmul(token_embeddings, self.attention_weights)\n",
    "        attention_scores = attention_scores.masked_fill(attention_mask == 0, -1e9)\n",
    "        attention_weights = F.softmax(attention_scores, dim=1)\n",
    "        \n",
    "        # 가중 평균을 계산합니다.\n",
    "        weighted_sum = torch.matmul(attention_weights.unsqueeze(1), token_embeddings).squeeze(1)\n",
    "        return weighted_sum"
   ]
  },
  {
   "cell_type": "code",
   "execution_count": null,
   "metadata": {},
   "outputs": [],
   "source": [
    "hidden_size = 16\n",
    "attention_weights = nn.Parameter(torch.Tensor(hidden_size), requires_grad=True)\n",
    "attention_weights"
   ]
  },
  {
   "cell_type": "code",
   "execution_count": null,
   "metadata": {},
   "outputs": [],
   "source": [
    "token_nums = 10\n",
    "token_embeddings = torch.rand(token_nums, hidden_size)\n",
    "token_embeddings"
   ]
  },
  {
   "cell_type": "code",
   "execution_count": null,
   "metadata": {},
   "outputs": [],
   "source": [
    "attention_scores = torch.matmul(token_embeddings, attention_weights)"
   ]
  },
  {
   "cell_type": "code",
   "execution_count": null,
   "metadata": {},
   "outputs": [],
   "source": [
    "attention_scores"
   ]
  },
  {
   "cell_type": "code",
   "execution_count": null,
   "metadata": {},
   "outputs": [],
   "source": [
    "attention_mask = torch.tensor([[1,1,1,1,1,1,0,0,0,0]])"
   ]
  },
  {
   "cell_type": "code",
   "execution_count": null,
   "metadata": {},
   "outputs": [],
   "source": [
    "attention_scores = attention_scores.masked_fill(attention_mask == 0, -1e9)"
   ]
  },
  {
   "cell_type": "code",
   "execution_count": null,
   "metadata": {},
   "outputs": [],
   "source": [
    "attention_scores"
   ]
  },
  {
   "cell_type": "code",
   "execution_count": null,
   "metadata": {},
   "outputs": [],
   "source": [
    "attention_weights = F.softmax(attention_scores, dim=1)"
   ]
  },
  {
   "cell_type": "code",
   "execution_count": null,
   "metadata": {},
   "outputs": [],
   "source": [
    "attention_weights"
   ]
  },
  {
   "cell_type": "code",
   "execution_count": null,
   "metadata": {},
   "outputs": [],
   "source": [
    "attention_weights.unsqueeze(1)"
   ]
  },
  {
   "cell_type": "code",
   "execution_count": null,
   "metadata": {},
   "outputs": [],
   "source": [
    "weighted_sum = torch.matmul(attention_weights.unsqueeze(1), token_embeddings).squeeze(1)"
   ]
  },
  {
   "cell_type": "code",
   "execution_count": null,
   "metadata": {},
   "outputs": [],
   "source": [
    "weighted_sum"
   ]
  }
 ],
 "metadata": {
  "kernelspec": {
   "display_name": "Python 3",
   "language": "python",
   "name": "python3"
  },
  "language_info": {
   "codemirror_mode": {
    "name": "ipython",
    "version": 3
   },
   "file_extension": ".py",
   "mimetype": "text/x-python",
   "name": "python",
   "nbconvert_exporter": "python",
   "pygments_lexer": "ipython3",
   "version": "3.10.12"
  }
 },
 "nbformat": 4,
 "nbformat_minor": 2
}
