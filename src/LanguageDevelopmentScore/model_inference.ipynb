{
 "cells": [
  {
   "cell_type": "markdown",
   "metadata": {},
   "source": [
    "# sBERT"
   ]
  },
  {
   "cell_type": "code",
   "execution_count": null,
   "metadata": {},
   "outputs": [],
   "source": [
    "from transformers import AutoModel, AutoTokenizer\n",
    "import torch.nn as nn\n",
    "import torch\n",
    "from sources.models import sBERTRegressor, sBERTRegressorNew, RoBERTaRegressor\n",
    "\n",
    "device = \"cuda\" if torch.cuda.is_available() else \"cpu\""
   ]
  },
  {
   "cell_type": "code",
   "execution_count": null,
   "metadata": {},
   "outputs": [],
   "source": [
    "model_name = \"snunlp/KR-SBERT-V40K-klueNLI-augSTS\" \n",
    "is_freeze = False  \n",
    "\n",
    "model = sBERTRegressor(model_name, is_freeze).to(device)\n",
    "tokenizer = AutoTokenizer.from_pretrained(model_name)\n",
    "\n",
    "trained_model = sBERTRegressor(model_name, is_freeze).to(device)\n",
    "model_path = \"checkpoints/sBERT_2024-07-03 17:15:29.pth\"\n",
    "trained_model.load_state_dict(torch.load(model_path))"
   ]
  },
  {
   "cell_type": "code",
   "execution_count": null,
   "metadata": {},
   "outputs": [],
   "source": [
    "example = \"으아아아\"\n",
    "max_length = 128\n",
    "encoded_text = tokenizer(example, return_tensors=\"pt\",max_length=max_length,padding=\"max_length\",truncation=True)\n",
    "iids = encoded_text[\"input_ids\"].to(device)\n",
    "atm = encoded_text[\"attention_mask\"].to(device)"
   ]
  },
  {
   "cell_type": "code",
   "execution_count": null,
   "metadata": {},
   "outputs": [],
   "source": [
    "print(\"학습되지 않은 모델:\",round(float(model(iids, atm)), 3), \"점\")\n",
    "print(\"학습된 모델:\",round(float(trained_model(iids, atm)), 3), \"점\")"
   ]
  },
  {
   "cell_type": "code",
   "execution_count": null,
   "metadata": {},
   "outputs": [],
   "source": [
    "device = \"cpu\"\n",
    "\n",
    "model_name = \"snunlp/KR-SBERT-V40K-klueNLI-augSTS\" \n",
    "is_freeze = True  \n",
    "\n",
    "model = sBERTRegressorNew(model_name, is_freeze, version=2).to(device)\n",
    "tokenizer = AutoTokenizer.from_pretrained(model_name)\n",
    "\n",
    "trained_model = sBERTRegressorNew(model_name, is_freeze, version=2).to(device)\n",
    "model_path = \"checkpoints/sBERTNewV2_2024-07-04_13-36-30.pth\"\n",
    "trained_model.load_state_dict(torch.load(model_path))"
   ]
  },
  {
   "cell_type": "code",
   "execution_count": null,
   "metadata": {},
   "outputs": [],
   "source": [
    "example = \"정말요???/????????????????????????????????????????????????/????????\"\n",
    "max_length = 128\n",
    "encoded_text = tokenizer(example, return_tensors=\"pt\",max_length=max_length,padding=\"max_length\",truncation=True)\n",
    "iids = encoded_text[\"input_ids\"].to(device)\n",
    "atm = encoded_text[\"attention_mask\"].to(device)"
   ]
  },
  {
   "cell_type": "code",
   "execution_count": null,
   "metadata": {},
   "outputs": [],
   "source": [
    "print(\"학습되지 않은 모델:\",round(float(model(iids, atm)), 3), \"점\")\n",
    "print(\"학습된 모델:\",round(float(trained_model(iids, atm)), 3), \"점\")"
   ]
  },
  {
   "cell_type": "markdown",
   "metadata": {},
   "source": [
    "# RoBERTa"
   ]
  },
  {
   "cell_type": "code",
   "execution_count": 13,
   "metadata": {},
   "outputs": [
    {
     "name": "stderr",
     "output_type": "stream",
     "text": [
      "Some weights of RobertaModel were not initialized from the model checkpoint at klue/roberta-large and are newly initialized: ['roberta.pooler.dense.bias', 'roberta.pooler.dense.weight']\n",
      "You should probably TRAIN this model on a down-stream task to be able to use it for predictions and inference.\n"
     ]
    },
    {
     "name": "stdout",
     "output_type": "stream",
     "text": [
      "**PRETRAINED MODEL FREEZE**\n"
     ]
    },
    {
     "name": "stderr",
     "output_type": "stream",
     "text": [
      "Some weights of RobertaModel were not initialized from the model checkpoint at klue/roberta-large and are newly initialized: ['roberta.pooler.dense.bias', 'roberta.pooler.dense.weight']\n",
      "You should probably TRAIN this model on a down-stream task to be able to use it for predictions and inference.\n"
     ]
    },
    {
     "name": "stdout",
     "output_type": "stream",
     "text": [
      "**PRETRAINED MODEL FREEZE**\n"
     ]
    },
    {
     "data": {
      "text/plain": [
       "<All keys matched successfully>"
      ]
     },
     "execution_count": 13,
     "metadata": {},
     "output_type": "execute_result"
    }
   ],
   "source": [
    "from transformers import AutoModel, AutoTokenizer\n",
    "import torch.nn as nn\n",
    "import torch\n",
    "from sources.models import sBERTRegressor, sBERTRegressorNew, RoBERTaRegressor\n",
    "\n",
    "device = \"cpu\"\n",
    "is_freeze = True\n",
    "max_length = 128\n",
    "model_name = \"klue/roberta-large\" \n",
    "model_path = \"checkpoints/RoBERTa-Large_2024-07-04_17-03-51.pth\"  \n",
    "\n",
    "model = RoBERTaRegressor(model_name, is_freeze).to(device)\n",
    "tokenizer = AutoTokenizer.from_pretrained(model_name)\n",
    "\n",
    "trained_model = RoBERTaRegressor(model_name, is_freeze).to(device)\n",
    "trained_model.load_state_dict(torch.load(model_path))"
   ]
  },
  {
   "cell_type": "code",
   "execution_count": 20,
   "metadata": {},
   "outputs": [],
   "source": [
    "from huggingface_hub import hf_hub_download\n",
    "import pandas as pd\n",
    "from dotenv import load_dotenv\n",
    "import os\n",
    "\n",
    "load_dotenv()\n",
    "api_key = os.getenv(\"HF_API_KEY\")\n",
    "repo_id = \"SaeSSak/Conversation\"\n",
    "file_path = hf_hub_download(repo_id, \"TestData.parquet\", repo_type=\"dataset\", use_auth_token=api_key)\n",
    "\n",
    "# 파일 로드\n",
    "df = pd.read_parquet(file_path)\n",
    "example = list(df[\"음성인식결과\"])\n",
    "\n",
    "encoded_text = tokenizer(example, return_tensors=\"pt\",max_length=max_length,padding=\"max_length\",truncation=True)\n",
    "iids = encoded_text[\"input_ids\"].to(device)\n",
    "atm = encoded_text[\"attention_mask\"].to(device)"
   ]
  },
  {
   "cell_type": "code",
   "execution_count": 27,
   "metadata": {},
   "outputs": [],
   "source": [
    "import torch\n",
    "\n",
    "# 모델 예측\n",
    "with torch.no_grad():\n",
    "    predictions = trained_model(iids, atm)\n",
    "\n",
    "# 그래디언트 추적 분리 및 NumPy 배열 변환\n",
    "predictions_numpy = predictions.detach().numpy()\n",
    "\n",
    "# 데이터프레임에 예측 결과 추가\n",
    "df[\"나이점수\"] = df[\"나이\"] * 10\n",
    "df[\"예측점수\"] = predictions_numpy\n",
    "\n",
    "df[\"오차\"] = (df[\"나이점수\"] - df[\"예측점수\"]).abs()\n",
    "\n",
    "# 각 나이별로 편차 계산\n",
    "age_groups = df.groupby(\"나이\")[\"오차\"].mean().reset_index()\n",
    "overall_deviation = df[\"오차\"].mean()"
   ]
  },
  {
   "cell_type": "code",
   "execution_count": 36,
   "metadata": {},
   "outputs": [
    {
     "name": "stdout",
     "output_type": "stream",
     "text": [
      "나이: 3.0   오차: 25.99\n",
      "나이: 4.0   오차: 22.94\n",
      "나이: 5.0   오차: 16.83\n",
      "나이: 6.0   오차: 8.08\n",
      "나이: 7.0   오차: 12.01\n",
      "나이: 8.0   오차: 5.8\n",
      "나이: 9.0   오차: 10.25\n",
      "나이: 10.0   오차: 18.97\n",
      "MAE: 15.107299566268921\n"
     ]
    }
   ],
   "source": [
    "for ag in age_groups.values:\n",
    "    print(\"나이:\", ag[0], \"  오차:\", round(ag[1], 2))\n",
    "print(\"MAE:\",overall_deviation)"
   ]
  },
  {
   "cell_type": "code",
   "execution_count": 28,
   "metadata": {},
   "outputs": [],
   "source": [
    "name = model_path.split(\"/\")[-1].split(\".\")[0]\n",
    "df.to_csv(f\"./result/{name}.csv\", index = False)"
   ]
  },
  {
   "cell_type": "markdown",
   "metadata": {},
   "source": [
    "# 모델 실험"
   ]
  },
  {
   "cell_type": "code",
   "execution_count": null,
   "metadata": {},
   "outputs": [],
   "source": [
    "device = \"cpu\""
   ]
  },
  {
   "cell_type": "code",
   "execution_count": null,
   "metadata": {},
   "outputs": [],
   "source": [
    "example = \"안녕하세요.\"\n",
    "max_length = 128\n",
    "encoded_text = tokenizer(example, return_tensors=\"pt\",max_length=max_length,padding=\"max_length\",truncation=True)\n",
    "iids = encoded_text[\"input_ids\"].to(device)\n",
    "atm = encoded_text[\"attention_mask\"].to(device)"
   ]
  },
  {
   "cell_type": "code",
   "execution_count": null,
   "metadata": {},
   "outputs": [],
   "source": [
    "model_name = \"snunlp/KR-SBERT-V40K-klueNLI-augSTS\" \n",
    "is_freeze = True \n",
    "sbert = AutoModel.from_pretrained(model_name).to(device)"
   ]
  },
  {
   "cell_type": "code",
   "execution_count": null,
   "metadata": {},
   "outputs": [],
   "source": [
    "outputs = sbert(input_ids=iids, attention_mask=atm)"
   ]
  },
  {
   "cell_type": "code",
   "execution_count": null,
   "metadata": {},
   "outputs": [],
   "source": [
    "def mean_pooling(model_output, attention_mask):\n",
    "    token_embeddings = model_output.last_hidden_state  # First element of model_output contains all token embeddings\n",
    "    input_mask_expanded = attention_mask.unsqueeze(-1).expand(token_embeddings.size()).float()\n",
    "    sum_embeddings = torch.sum(token_embeddings * input_mask_expanded, 1)\n",
    "    sum_mask = torch.clamp(input_mask_expanded.sum(1), min=1e-9)\n",
    "    return sum_embeddings / sum_mask"
   ]
  },
  {
   "cell_type": "code",
   "execution_count": null,
   "metadata": {},
   "outputs": [],
   "source": [
    "iids"
   ]
  },
  {
   "cell_type": "code",
   "execution_count": null,
   "metadata": {},
   "outputs": [],
   "source": [
    "token_embeddings = outputs.last_hidden_state"
   ]
  },
  {
   "cell_type": "code",
   "execution_count": null,
   "metadata": {},
   "outputs": [],
   "source": [
    "token_embeddings = outputs.last_hidden_state\n",
    "print(token_embeddings.shape)\n",
    "input_mask_expanded = atm.unsqueeze(-1).expand(token_embeddings.size()).float()\n",
    "print(input_mask_expanded.shape)\n",
    "sum_embeddings = torch.sum(token_embeddings * input_mask_expanded, 1)\n",
    "print(sum_embeddings.shape)\n",
    "sum_mask = torch.clamp(input_mask_expanded.sum(1), min=1e-9)\n",
    "print(sum_embeddings.shape)\n",
    "(sum_embeddings / sum_mask).shape"
   ]
  },
  {
   "cell_type": "code",
   "execution_count": null,
   "metadata": {},
   "outputs": [],
   "source": []
  }
 ],
 "metadata": {
  "kernelspec": {
   "display_name": "Python 3",
   "language": "python",
   "name": "python3"
  },
  "language_info": {
   "codemirror_mode": {
    "name": "ipython",
    "version": 3
   },
   "file_extension": ".py",
   "mimetype": "text/x-python",
   "name": "python",
   "nbconvert_exporter": "python",
   "pygments_lexer": "ipython3",
   "version": "3.10.12"
  }
 },
 "nbformat": 4,
 "nbformat_minor": 2
}
