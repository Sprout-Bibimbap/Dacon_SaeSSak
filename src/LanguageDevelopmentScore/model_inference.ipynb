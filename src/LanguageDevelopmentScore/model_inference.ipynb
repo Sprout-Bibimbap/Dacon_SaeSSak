{
 "cells": [
  {
   "cell_type": "markdown",
   "metadata": {},
   "source": [
    "# sBERT"
   ]
  },
  {
   "cell_type": "code",
   "execution_count": null,
   "metadata": {},
   "outputs": [],
   "source": [
    "from transformers import AutoModel, AutoTokenizer\n",
    "import torch.nn as nn\n",
    "import torch\n",
    "from sources.models import sBERTRegressor, sBERTRegressorNew, RoBERTaRegressor\n",
    "\n",
    "device = \"cuda\" if torch.cuda.is_available() else \"cpu\""
   ]
  },
  {
   "cell_type": "code",
   "execution_count": null,
   "metadata": {},
   "outputs": [],
   "source": [
    "model_name = \"snunlp/KR-SBERT-V40K-klueNLI-augSTS\" \n",
    "is_freeze = False  \n",
    "\n",
    "model = sBERTRegressor(model_name, is_freeze).to(device)\n",
    "tokenizer = AutoTokenizer.from_pretrained(model_name)\n",
    "\n",
    "trained_model = sBERTRegressor(model_name, is_freeze).to(device)\n",
    "model_path = \"checkpoints/sBERT_2024-07-03 17:15:29.pth\"\n",
    "trained_model.load_state_dict(torch.load(model_path))"
   ]
  },
  {
   "cell_type": "code",
   "execution_count": null,
   "metadata": {},
   "outputs": [],
   "source": [
    "example = \"으아아아\"\n",
    "max_length = 128\n",
    "encoded_text = tokenizer(example, return_tensors=\"pt\",max_length=max_length,padding=\"max_length\",truncation=True)\n",
    "iids = encoded_text[\"input_ids\"].to(device)\n",
    "atm = encoded_text[\"attention_mask\"].to(device)"
   ]
  },
  {
   "cell_type": "code",
   "execution_count": null,
   "metadata": {},
   "outputs": [],
   "source": [
    "print(\"학습되지 않은 모델:\",round(float(model(iids, atm)), 3), \"점\")\n",
    "print(\"학습된 모델:\",round(float(trained_model(iids, atm)), 3), \"점\")"
   ]
  },
  {
   "cell_type": "code",
   "execution_count": null,
   "metadata": {},
   "outputs": [],
   "source": [
    "device = \"cpu\"\n",
    "\n",
    "model_name = \"snunlp/KR-SBERT-V40K-klueNLI-augSTS\" \n",
    "is_freeze = True  \n",
    "\n",
    "model = sBERTRegressorNew(model_name, is_freeze, version=2).to(device)\n",
    "tokenizer = AutoTokenizer.from_pretrained(model_name)\n",
    "\n",
    "trained_model = sBERTRegressorNew(model_name, is_freeze, version=2).to(device)\n",
    "model_path = \"checkpoints/sBERTNewV2_2024-07-04_13-36-30.pth\"\n",
    "trained_model.load_state_dict(torch.load(model_path))"
   ]
  },
  {
   "cell_type": "code",
   "execution_count": null,
   "metadata": {},
   "outputs": [],
   "source": [
    "example = \"정말요???/????????????????????????????????????????????????/????????\"\n",
    "max_length = 128\n",
    "encoded_text = tokenizer(example, return_tensors=\"pt\",max_length=max_length,padding=\"max_length\",truncation=True)\n",
    "iids = encoded_text[\"input_ids\"].to(device)\n",
    "atm = encoded_text[\"attention_mask\"].to(device)"
   ]
  },
  {
   "cell_type": "code",
   "execution_count": null,
   "metadata": {},
   "outputs": [],
   "source": [
    "print(\"학습되지 않은 모델:\",round(float(model(iids, atm)), 3), \"점\")\n",
    "print(\"학습된 모델:\",round(float(trained_model(iids, atm)), 3), \"점\")"
   ]
  },
  {
   "cell_type": "markdown",
   "metadata": {},
   "source": [
    "# RoBERTa"
   ]
  },
  {
   "cell_type": "code",
   "execution_count": null,
   "metadata": {},
   "outputs": [],
   "source": [
    "device = \"cpu\"\n",
    "\n",
    "model_name = \"klue/roberta-base\" \n",
    "is_freeze = True  \n",
    "\n",
    "model = AutoModel.from_pretrained(model_name)\n",
    "tokenizer = AutoTokenizer.from_pretrained(model_name)"
   ]
  },
  {
   "cell_type": "code",
   "execution_count": null,
   "metadata": {},
   "outputs": [],
   "source": [
    "model"
   ]
  },
  {
   "cell_type": "code",
   "execution_count": null,
   "metadata": {},
   "outputs": [],
   "source": [
    "device = \"cpu\"\n",
    "\n",
    "model_name = \"klue/roberta-base\" \n",
    "is_freeze = True  \n",
    "\n",
    "model = RoBERTaRegressor(model_name, is_freeze).to(device)\n",
    "tokenizer = AutoTokenizer.from_pretrained(model_name)\n",
    "\n",
    "trained_model = RoBERTaRegressor(model_name, is_freeze).to(device)\n",
    "model_path = \"checkpoints/RoBERTa-Base_2024-07-04_14-27-44.pth\"\n",
    "trained_model.load_state_dict(torch.load(model_path))"
   ]
  },
  {
   "cell_type": "code",
   "execution_count": null,
   "metadata": {},
   "outputs": [],
   "source": [
    "example = \"여름은 더워요\"\n",
    "max_length = 128\n",
    "encoded_text = tokenizer(example, return_tensors=\"pt\",max_length=max_length,padding=\"max_length\",truncation=True)\n",
    "iids = encoded_text[\"input_ids\"].to(device)\n",
    "atm = encoded_text[\"attention_mask\"].to(device)"
   ]
  },
  {
   "cell_type": "code",
   "execution_count": null,
   "metadata": {},
   "outputs": [],
   "source": [
    "print(\"학습되지 않은 모델:\",round(float(model(iids, atm)), 3), \"점\")\n",
    "print(\"학습된 모델:\",round(float(trained_model(iids, atm)), 3), \"점\")"
   ]
  },
  {
   "cell_type": "markdown",
   "metadata": {},
   "source": [
    "# 모델 실험"
   ]
  },
  {
   "cell_type": "code",
   "execution_count": null,
   "metadata": {},
   "outputs": [],
   "source": [
    "device = \"cpu\""
   ]
  },
  {
   "cell_type": "code",
   "execution_count": null,
   "metadata": {},
   "outputs": [],
   "source": [
    "example = \"안녕하세요.\"\n",
    "max_length = 128\n",
    "encoded_text = tokenizer(example, return_tensors=\"pt\",max_length=max_length,padding=\"max_length\",truncation=True)\n",
    "iids = encoded_text[\"input_ids\"].to(device)\n",
    "atm = encoded_text[\"attention_mask\"].to(device)"
   ]
  },
  {
   "cell_type": "code",
   "execution_count": null,
   "metadata": {},
   "outputs": [],
   "source": [
    "model_name = \"snunlp/KR-SBERT-V40K-klueNLI-augSTS\" \n",
    "is_freeze = True \n",
    "sbert = AutoModel.from_pretrained(model_name).to(device)"
   ]
  },
  {
   "cell_type": "code",
   "execution_count": null,
   "metadata": {},
   "outputs": [],
   "source": [
    "outputs = sbert(input_ids=iids, attention_mask=atm)"
   ]
  },
  {
   "cell_type": "code",
   "execution_count": null,
   "metadata": {},
   "outputs": [],
   "source": [
    "def mean_pooling(model_output, attention_mask):\n",
    "    token_embeddings = model_output.last_hidden_state  # First element of model_output contains all token embeddings\n",
    "    input_mask_expanded = attention_mask.unsqueeze(-1).expand(token_embeddings.size()).float()\n",
    "    sum_embeddings = torch.sum(token_embeddings * input_mask_expanded, 1)\n",
    "    sum_mask = torch.clamp(input_mask_expanded.sum(1), min=1e-9)\n",
    "    return sum_embeddings / sum_mask"
   ]
  },
  {
   "cell_type": "code",
   "execution_count": null,
   "metadata": {},
   "outputs": [],
   "source": [
    "iids"
   ]
  },
  {
   "cell_type": "code",
   "execution_count": null,
   "metadata": {},
   "outputs": [],
   "source": [
    "token_embeddings = outputs.last_hidden_state"
   ]
  },
  {
   "cell_type": "code",
   "execution_count": null,
   "metadata": {},
   "outputs": [],
   "source": [
    "token_embeddings = outputs.last_hidden_state\n",
    "print(token_embeddings.shape)\n",
    "input_mask_expanded = atm.unsqueeze(-1).expand(token_embeddings.size()).float()\n",
    "print(input_mask_expanded.shape)\n",
    "sum_embeddings = torch.sum(token_embeddings * input_mask_expanded, 1)\n",
    "print(sum_embeddings.shape)\n",
    "sum_mask = torch.clamp(input_mask_expanded.sum(1), min=1e-9)\n",
    "print(sum_embeddings.shape)\n",
    "(sum_embeddings / sum_mask).shape"
   ]
  },
  {
   "cell_type": "code",
   "execution_count": null,
   "metadata": {},
   "outputs": [],
   "source": []
  }
 ],
 "metadata": {
  "kernelspec": {
   "display_name": "Python 3",
   "language": "python",
   "name": "python3"
  },
  "language_info": {
   "codemirror_mode": {
    "name": "ipython",
    "version": 3
   },
   "file_extension": ".py",
   "mimetype": "text/x-python",
   "name": "python",
   "nbconvert_exporter": "python",
   "pygments_lexer": "ipython3",
   "version": "3.10.12"
  }
 },
 "nbformat": 4,
 "nbformat_minor": 2
}
