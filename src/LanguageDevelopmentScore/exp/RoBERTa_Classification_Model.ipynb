{
  "cells": [
    {
      "cell_type": "code",
      "execution_count": 13,
      "metadata": {
        "colab": {
          "base_uri": "https://localhost:8080/"
        },
        "id": "YHKMHcBh5F-P",
        "outputId": "c48dd54d-165e-4048-9002-d2fd78efede7"
      },
      "outputs": [
        {
          "name": "stdout",
          "output_type": "stream",
          "text": [
            "Requirement already satisfied: transformers in c:\\users\\phy\\appdata\\local\\programs\\python\\python312\\lib\\site-packages (4.42.3)\n",
            "Requirement already satisfied: filelock in c:\\users\\phy\\appdata\\local\\programs\\python\\python312\\lib\\site-packages (from transformers) (3.13.1)\n",
            "Requirement already satisfied: huggingface-hub<1.0,>=0.23.2 in c:\\users\\phy\\appdata\\local\\programs\\python\\python312\\lib\\site-packages (from transformers) (0.23.4)\n",
            "Requirement already satisfied: numpy<2.0,>=1.17 in c:\\users\\phy\\appdata\\local\\programs\\python\\python312\\lib\\site-packages (from transformers) (1.26.4)\n",
            "Requirement already satisfied: packaging>=20.0 in c:\\users\\phy\\appdata\\roaming\\python\\python312\\site-packages (from transformers) (24.0)\n",
            "Requirement already satisfied: pyyaml>=5.1 in c:\\users\\phy\\appdata\\local\\programs\\python\\python312\\lib\\site-packages (from transformers) (6.0.1)\n",
            "Requirement already satisfied: regex!=2019.12.17 in c:\\users\\phy\\appdata\\local\\programs\\python\\python312\\lib\\site-packages (from transformers) (2024.5.15)\n",
            "Requirement already satisfied: requests in c:\\users\\phy\\appdata\\local\\programs\\python\\python312\\lib\\site-packages (from transformers) (2.32.2)\n",
            "Requirement already satisfied: safetensors>=0.4.1 in c:\\users\\phy\\appdata\\local\\programs\\python\\python312\\lib\\site-packages (from transformers) (0.4.3)\n",
            "Requirement already satisfied: tokenizers<0.20,>=0.19 in c:\\users\\phy\\appdata\\local\\programs\\python\\python312\\lib\\site-packages (from transformers) (0.19.1)\n",
            "Requirement already satisfied: tqdm>=4.27 in c:\\users\\phy\\appdata\\local\\programs\\python\\python312\\lib\\site-packages (from transformers) (4.66.4)\n",
            "Requirement already satisfied: fsspec>=2023.5.0 in c:\\users\\phy\\appdata\\local\\programs\\python\\python312\\lib\\site-packages (from huggingface-hub<1.0,>=0.23.2->transformers) (2024.2.0)\n",
            "Requirement already satisfied: typing-extensions>=3.7.4.3 in c:\\users\\phy\\appdata\\local\\programs\\python\\python312\\lib\\site-packages (from huggingface-hub<1.0,>=0.23.2->transformers) (4.12.0)\n",
            "Requirement already satisfied: colorama in c:\\users\\phy\\appdata\\roaming\\python\\python312\\site-packages (from tqdm>=4.27->transformers) (0.4.6)\n",
            "Requirement already satisfied: charset-normalizer<4,>=2 in c:\\users\\phy\\appdata\\local\\programs\\python\\python312\\lib\\site-packages (from requests->transformers) (3.3.2)\n",
            "Requirement already satisfied: idna<4,>=2.5 in c:\\users\\phy\\appdata\\local\\programs\\python\\python312\\lib\\site-packages (from requests->transformers) (3.7)\n",
            "Requirement already satisfied: urllib3<3,>=1.21.1 in c:\\users\\phy\\appdata\\local\\programs\\python\\python312\\lib\\site-packages (from requests->transformers) (2.2.1)\n",
            "Requirement already satisfied: certifi>=2017.4.17 in c:\\users\\phy\\appdata\\local\\programs\\python\\python312\\lib\\site-packages (from requests->transformers) (2024.2.2)\n"
          ]
        },
        {
          "name": "stderr",
          "output_type": "stream",
          "text": [
            "\n",
            "[notice] A new release of pip is available: 24.0 -> 24.1.1\n",
            "[notice] To update, run: python.exe -m pip install --upgrade pip\n"
          ]
        },
        {
          "name": "stdout",
          "output_type": "stream",
          "text": [
            "Requirement already satisfied: torch in c:\\users\\phy\\appdata\\local\\programs\\python\\python312\\lib\\site-packages (2.3.0+cu118)\n",
            "Requirement already satisfied: filelock in c:\\users\\phy\\appdata\\local\\programs\\python\\python312\\lib\\site-packages (from torch) (3.13.1)\n",
            "Requirement already satisfied: typing-extensions>=4.8.0 in c:\\users\\phy\\appdata\\local\\programs\\python\\python312\\lib\\site-packages (from torch) (4.12.0)\n",
            "Requirement already satisfied: sympy in c:\\users\\phy\\appdata\\local\\programs\\python\\python312\\lib\\site-packages (from torch) (1.12)\n",
            "Requirement already satisfied: networkx in c:\\users\\phy\\appdata\\local\\programs\\python\\python312\\lib\\site-packages (from torch) (3.2.1)\n",
            "Requirement already satisfied: jinja2 in c:\\users\\phy\\appdata\\local\\programs\\python\\python312\\lib\\site-packages (from torch) (3.1.3)\n",
            "Requirement already satisfied: fsspec in c:\\users\\phy\\appdata\\local\\programs\\python\\python312\\lib\\site-packages (from torch) (2024.2.0)\n",
            "Requirement already satisfied: mkl<=2021.4.0,>=2021.1.1 in c:\\users\\phy\\appdata\\local\\programs\\python\\python312\\lib\\site-packages (from torch) (2021.4.0)\n",
            "Requirement already satisfied: intel-openmp==2021.* in c:\\users\\phy\\appdata\\local\\programs\\python\\python312\\lib\\site-packages (from mkl<=2021.4.0,>=2021.1.1->torch) (2021.4.0)\n",
            "Requirement already satisfied: tbb==2021.* in c:\\users\\phy\\appdata\\local\\programs\\python\\python312\\lib\\site-packages (from mkl<=2021.4.0,>=2021.1.1->torch) (2021.11.0)\n",
            "Requirement already satisfied: MarkupSafe>=2.0 in c:\\users\\phy\\appdata\\local\\programs\\python\\python312\\lib\\site-packages (from jinja2->torch) (2.1.5)\n",
            "Requirement already satisfied: mpmath>=0.19 in c:\\users\\phy\\appdata\\local\\programs\\python\\python312\\lib\\site-packages (from sympy->torch) (1.3.0)\n"
          ]
        },
        {
          "name": "stderr",
          "output_type": "stream",
          "text": [
            "\n",
            "[notice] A new release of pip is available: 24.0 -> 24.1.1\n",
            "[notice] To update, run: python.exe -m pip install --upgrade pip\n"
          ]
        },
        {
          "name": "stdout",
          "output_type": "stream",
          "text": [
            "Requirement already satisfied: datasets in c:\\users\\phy\\appdata\\local\\programs\\python\\python312\\lib\\site-packages (2.20.0)\n",
            "Requirement already satisfied: filelock in c:\\users\\phy\\appdata\\local\\programs\\python\\python312\\lib\\site-packages (from datasets) (3.13.1)\n",
            "Requirement already satisfied: numpy>=1.17 in c:\\users\\phy\\appdata\\local\\programs\\python\\python312\\lib\\site-packages (from datasets) (1.26.4)\n",
            "Requirement already satisfied: pyarrow>=15.0.0 in c:\\users\\phy\\appdata\\local\\programs\\python\\python312\\lib\\site-packages (from datasets) (16.1.0)\n",
            "Requirement already satisfied: pyarrow-hotfix in c:\\users\\phy\\appdata\\local\\programs\\python\\python312\\lib\\site-packages (from datasets) (0.6)\n",
            "Requirement already satisfied: dill<0.3.9,>=0.3.0 in c:\\users\\phy\\appdata\\local\\programs\\python\\python312\\lib\\site-packages (from datasets) (0.3.8)\n",
            "Requirement already satisfied: pandas in c:\\users\\phy\\appdata\\local\\programs\\python\\python312\\lib\\site-packages (from datasets) (2.2.2)\n",
            "Requirement already satisfied: requests>=2.32.2 in c:\\users\\phy\\appdata\\local\\programs\\python\\python312\\lib\\site-packages (from datasets) (2.32.2)\n",
            "Requirement already satisfied: tqdm>=4.66.3 in c:\\users\\phy\\appdata\\local\\programs\\python\\python312\\lib\\site-packages (from datasets) (4.66.4)\n",
            "Requirement already satisfied: xxhash in c:\\users\\phy\\appdata\\local\\programs\\python\\python312\\lib\\site-packages (from datasets) (3.4.1)\n",
            "Requirement already satisfied: multiprocess in c:\\users\\phy\\appdata\\local\\programs\\python\\python312\\lib\\site-packages (from datasets) (0.70.16)\n",
            "Requirement already satisfied: fsspec<=2024.5.0,>=2023.1.0 in c:\\users\\phy\\appdata\\local\\programs\\python\\python312\\lib\\site-packages (from fsspec[http]<=2024.5.0,>=2023.1.0->datasets) (2024.2.0)\n",
            "Requirement already satisfied: aiohttp in c:\\users\\phy\\appdata\\local\\programs\\python\\python312\\lib\\site-packages (from datasets) (3.9.5)\n",
            "Requirement already satisfied: huggingface-hub>=0.21.2 in c:\\users\\phy\\appdata\\local\\programs\\python\\python312\\lib\\site-packages (from datasets) (0.23.4)\n",
            "Requirement already satisfied: packaging in c:\\users\\phy\\appdata\\roaming\\python\\python312\\site-packages (from datasets) (24.0)\n",
            "Requirement already satisfied: pyyaml>=5.1 in c:\\users\\phy\\appdata\\local\\programs\\python\\python312\\lib\\site-packages (from datasets) (6.0.1)\n",
            "Requirement already satisfied: aiosignal>=1.1.2 in c:\\users\\phy\\appdata\\local\\programs\\python\\python312\\lib\\site-packages (from aiohttp->datasets) (1.3.1)\n",
            "Requirement already satisfied: attrs>=17.3.0 in c:\\users\\phy\\appdata\\local\\programs\\python\\python312\\lib\\site-packages (from aiohttp->datasets) (23.2.0)\n",
            "Requirement already satisfied: frozenlist>=1.1.1 in c:\\users\\phy\\appdata\\local\\programs\\python\\python312\\lib\\site-packages (from aiohttp->datasets) (1.4.1)\n",
            "Requirement already satisfied: multidict<7.0,>=4.5 in c:\\users\\phy\\appdata\\local\\programs\\python\\python312\\lib\\site-packages (from aiohttp->datasets) (6.0.5)\n",
            "Requirement already satisfied: yarl<2.0,>=1.0 in c:\\users\\phy\\appdata\\local\\programs\\python\\python312\\lib\\site-packages (from aiohttp->datasets) (1.9.4)\n",
            "Requirement already satisfied: typing-extensions>=3.7.4.3 in c:\\users\\phy\\appdata\\local\\programs\\python\\python312\\lib\\site-packages (from huggingface-hub>=0.21.2->datasets) (4.12.0)\n",
            "Requirement already satisfied: charset-normalizer<4,>=2 in c:\\users\\phy\\appdata\\local\\programs\\python\\python312\\lib\\site-packages (from requests>=2.32.2->datasets) (3.3.2)\n",
            "Requirement already satisfied: idna<4,>=2.5 in c:\\users\\phy\\appdata\\local\\programs\\python\\python312\\lib\\site-packages (from requests>=2.32.2->datasets) (3.7)\n",
            "Requirement already satisfied: urllib3<3,>=1.21.1 in c:\\users\\phy\\appdata\\local\\programs\\python\\python312\\lib\\site-packages (from requests>=2.32.2->datasets) (2.2.1)\n",
            "Requirement already satisfied: certifi>=2017.4.17 in c:\\users\\phy\\appdata\\local\\programs\\python\\python312\\lib\\site-packages (from requests>=2.32.2->datasets) (2024.2.2)\n",
            "Requirement already satisfied: colorama in c:\\users\\phy\\appdata\\roaming\\python\\python312\\site-packages (from tqdm>=4.66.3->datasets) (0.4.6)\n",
            "Requirement already satisfied: python-dateutil>=2.8.2 in c:\\users\\phy\\appdata\\roaming\\python\\python312\\site-packages (from pandas->datasets) (2.9.0.post0)\n",
            "Requirement already satisfied: pytz>=2020.1 in c:\\users\\phy\\appdata\\local\\programs\\python\\python312\\lib\\site-packages (from pandas->datasets) (2024.1)\n",
            "Requirement already satisfied: tzdata>=2022.7 in c:\\users\\phy\\appdata\\local\\programs\\python\\python312\\lib\\site-packages (from pandas->datasets) (2024.1)\n",
            "Requirement already satisfied: six>=1.5 in c:\\users\\phy\\appdata\\roaming\\python\\python312\\site-packages (from python-dateutil>=2.8.2->pandas->datasets) (1.16.0)\n"
          ]
        },
        {
          "name": "stderr",
          "output_type": "stream",
          "text": [
            "\n",
            "[notice] A new release of pip is available: 24.0 -> 24.1.1\n",
            "[notice] To update, run: python.exe -m pip install --upgrade pip\n"
          ]
        },
        {
          "name": "stdout",
          "output_type": "stream",
          "text": [
            "Requirement already satisfied: huggingface_hub in c:\\users\\phy\\appdata\\local\\programs\\python\\python312\\lib\\site-packages (0.23.4)\n",
            "Requirement already satisfied: filelock in c:\\users\\phy\\appdata\\local\\programs\\python\\python312\\lib\\site-packages (from huggingface_hub) (3.13.1)\n",
            "Requirement already satisfied: fsspec>=2023.5.0 in c:\\users\\phy\\appdata\\local\\programs\\python\\python312\\lib\\site-packages (from huggingface_hub) (2024.2.0)\n",
            "Requirement already satisfied: packaging>=20.9 in c:\\users\\phy\\appdata\\roaming\\python\\python312\\site-packages (from huggingface_hub) (24.0)\n",
            "Requirement already satisfied: pyyaml>=5.1 in c:\\users\\phy\\appdata\\local\\programs\\python\\python312\\lib\\site-packages (from huggingface_hub) (6.0.1)\n",
            "Requirement already satisfied: requests in c:\\users\\phy\\appdata\\local\\programs\\python\\python312\\lib\\site-packages (from huggingface_hub) (2.32.2)\n",
            "Requirement already satisfied: tqdm>=4.42.1 in c:\\users\\phy\\appdata\\local\\programs\\python\\python312\\lib\\site-packages (from huggingface_hub) (4.66.4)\n",
            "Requirement already satisfied: typing-extensions>=3.7.4.3 in c:\\users\\phy\\appdata\\local\\programs\\python\\python312\\lib\\site-packages (from huggingface_hub) (4.12.0)\n",
            "Requirement already satisfied: colorama in c:\\users\\phy\\appdata\\roaming\\python\\python312\\site-packages (from tqdm>=4.42.1->huggingface_hub) (0.4.6)\n",
            "Requirement already satisfied: charset-normalizer<4,>=2 in c:\\users\\phy\\appdata\\local\\programs\\python\\python312\\lib\\site-packages (from requests->huggingface_hub) (3.3.2)\n",
            "Requirement already satisfied: idna<4,>=2.5 in c:\\users\\phy\\appdata\\local\\programs\\python\\python312\\lib\\site-packages (from requests->huggingface_hub) (3.7)\n",
            "Requirement already satisfied: urllib3<3,>=1.21.1 in c:\\users\\phy\\appdata\\local\\programs\\python\\python312\\lib\\site-packages (from requests->huggingface_hub) (2.2.1)\n",
            "Requirement already satisfied: certifi>=2017.4.17 in c:\\users\\phy\\appdata\\local\\programs\\python\\python312\\lib\\site-packages (from requests->huggingface_hub) (2024.2.2)\n"
          ]
        },
        {
          "name": "stderr",
          "output_type": "stream",
          "text": [
            "\n",
            "[notice] A new release of pip is available: 24.0 -> 24.1.1\n",
            "[notice] To update, run: python.exe -m pip install --upgrade pip\n"
          ]
        },
        {
          "name": "stdout",
          "output_type": "stream",
          "text": [
            "Requirement already satisfied: tf-keras in c:\\users\\phy\\appdata\\local\\programs\\python\\python312\\lib\\site-packages (2.16.0)\n",
            "Requirement already satisfied: tensorflow<2.17,>=2.16 in c:\\users\\phy\\appdata\\local\\programs\\python\\python312\\lib\\site-packages (from tf-keras) (2.16.1)\n",
            "Requirement already satisfied: tensorflow-intel==2.16.1 in c:\\users\\phy\\appdata\\local\\programs\\python\\python312\\lib\\site-packages (from tensorflow<2.17,>=2.16->tf-keras) (2.16.1)\n",
            "Requirement already satisfied: absl-py>=1.0.0 in c:\\users\\phy\\appdata\\local\\programs\\python\\python312\\lib\\site-packages (from tensorflow-intel==2.16.1->tensorflow<2.17,>=2.16->tf-keras) (2.1.0)\n",
            "Requirement already satisfied: astunparse>=1.6.0 in c:\\users\\phy\\appdata\\local\\programs\\python\\python312\\lib\\site-packages (from tensorflow-intel==2.16.1->tensorflow<2.17,>=2.16->tf-keras) (1.6.3)\n",
            "Requirement already satisfied: flatbuffers>=23.5.26 in c:\\users\\phy\\appdata\\local\\programs\\python\\python312\\lib\\site-packages (from tensorflow-intel==2.16.1->tensorflow<2.17,>=2.16->tf-keras) (24.3.25)\n",
            "Requirement already satisfied: gast!=0.5.0,!=0.5.1,!=0.5.2,>=0.2.1 in c:\\users\\phy\\appdata\\local\\programs\\python\\python312\\lib\\site-packages (from tensorflow-intel==2.16.1->tensorflow<2.17,>=2.16->tf-keras) (0.5.4)\n",
            "Requirement already satisfied: google-pasta>=0.1.1 in c:\\users\\phy\\appdata\\local\\programs\\python\\python312\\lib\\site-packages (from tensorflow-intel==2.16.1->tensorflow<2.17,>=2.16->tf-keras) (0.2.0)\n",
            "Requirement already satisfied: h5py>=3.10.0 in c:\\users\\phy\\appdata\\local\\programs\\python\\python312\\lib\\site-packages (from tensorflow-intel==2.16.1->tensorflow<2.17,>=2.16->tf-keras) (3.11.0)\n",
            "Requirement already satisfied: libclang>=13.0.0 in c:\\users\\phy\\appdata\\local\\programs\\python\\python312\\lib\\site-packages (from tensorflow-intel==2.16.1->tensorflow<2.17,>=2.16->tf-keras) (18.1.1)\n",
            "Requirement already satisfied: ml-dtypes~=0.3.1 in c:\\users\\phy\\appdata\\local\\programs\\python\\python312\\lib\\site-packages (from tensorflow-intel==2.16.1->tensorflow<2.17,>=2.16->tf-keras) (0.3.2)\n",
            "Requirement already satisfied: opt-einsum>=2.3.2 in c:\\users\\phy\\appdata\\local\\programs\\python\\python312\\lib\\site-packages (from tensorflow-intel==2.16.1->tensorflow<2.17,>=2.16->tf-keras) (3.3.0)\n",
            "Requirement already satisfied: packaging in c:\\users\\phy\\appdata\\roaming\\python\\python312\\site-packages (from tensorflow-intel==2.16.1->tensorflow<2.17,>=2.16->tf-keras) (24.0)\n",
            "Requirement already satisfied: protobuf!=4.21.0,!=4.21.1,!=4.21.2,!=4.21.3,!=4.21.4,!=4.21.5,<5.0.0dev,>=3.20.3 in c:\\users\\phy\\appdata\\local\\programs\\python\\python312\\lib\\site-packages (from tensorflow-intel==2.16.1->tensorflow<2.17,>=2.16->tf-keras) (4.25.3)\n",
            "Requirement already satisfied: requests<3,>=2.21.0 in c:\\users\\phy\\appdata\\local\\programs\\python\\python312\\lib\\site-packages (from tensorflow-intel==2.16.1->tensorflow<2.17,>=2.16->tf-keras) (2.32.2)\n",
            "Requirement already satisfied: setuptools in c:\\users\\phy\\appdata\\local\\programs\\python\\python312\\lib\\site-packages (from tensorflow-intel==2.16.1->tensorflow<2.17,>=2.16->tf-keras) (70.0.0)\n",
            "Requirement already satisfied: six>=1.12.0 in c:\\users\\phy\\appdata\\roaming\\python\\python312\\site-packages (from tensorflow-intel==2.16.1->tensorflow<2.17,>=2.16->tf-keras) (1.16.0)\n",
            "Requirement already satisfied: termcolor>=1.1.0 in c:\\users\\phy\\appdata\\local\\programs\\python\\python312\\lib\\site-packages (from tensorflow-intel==2.16.1->tensorflow<2.17,>=2.16->tf-keras) (2.4.0)\n",
            "Requirement already satisfied: typing-extensions>=3.6.6 in c:\\users\\phy\\appdata\\local\\programs\\python\\python312\\lib\\site-packages (from tensorflow-intel==2.16.1->tensorflow<2.17,>=2.16->tf-keras) (4.12.0)\n",
            "Requirement already satisfied: wrapt>=1.11.0 in c:\\users\\phy\\appdata\\local\\programs\\python\\python312\\lib\\site-packages (from tensorflow-intel==2.16.1->tensorflow<2.17,>=2.16->tf-keras) (1.16.0)\n",
            "Requirement already satisfied: grpcio<2.0,>=1.24.3 in c:\\users\\phy\\appdata\\local\\programs\\python\\python312\\lib\\site-packages (from tensorflow-intel==2.16.1->tensorflow<2.17,>=2.16->tf-keras) (1.64.0)\n",
            "Requirement already satisfied: tensorboard<2.17,>=2.16 in c:\\users\\phy\\appdata\\local\\programs\\python\\python312\\lib\\site-packages (from tensorflow-intel==2.16.1->tensorflow<2.17,>=2.16->tf-keras) (2.16.2)\n",
            "Requirement already satisfied: keras>=3.0.0 in c:\\users\\phy\\appdata\\local\\programs\\python\\python312\\lib\\site-packages (from tensorflow-intel==2.16.1->tensorflow<2.17,>=2.16->tf-keras) (3.3.3)\n",
            "Requirement already satisfied: numpy<2.0.0,>=1.26.0 in c:\\users\\phy\\appdata\\local\\programs\\python\\python312\\lib\\site-packages (from tensorflow-intel==2.16.1->tensorflow<2.17,>=2.16->tf-keras) (1.26.4)\n",
            "Requirement already satisfied: wheel<1.0,>=0.23.0 in c:\\users\\phy\\appdata\\local\\programs\\python\\python312\\lib\\site-packages (from astunparse>=1.6.0->tensorflow-intel==2.16.1->tensorflow<2.17,>=2.16->tf-keras) (0.43.0)\n",
            "Requirement already satisfied: rich in c:\\users\\phy\\appdata\\local\\programs\\python\\python312\\lib\\site-packages (from keras>=3.0.0->tensorflow-intel==2.16.1->tensorflow<2.17,>=2.16->tf-keras) (13.7.1)\n",
            "Requirement already satisfied: namex in c:\\users\\phy\\appdata\\local\\programs\\python\\python312\\lib\\site-packages (from keras>=3.0.0->tensorflow-intel==2.16.1->tensorflow<2.17,>=2.16->tf-keras) (0.0.8)\n",
            "Requirement already satisfied: optree in c:\\users\\phy\\appdata\\local\\programs\\python\\python312\\lib\\site-packages (from keras>=3.0.0->tensorflow-intel==2.16.1->tensorflow<2.17,>=2.16->tf-keras) (0.11.0)\n",
            "Requirement already satisfied: charset-normalizer<4,>=2 in c:\\users\\phy\\appdata\\local\\programs\\python\\python312\\lib\\site-packages (from requests<3,>=2.21.0->tensorflow-intel==2.16.1->tensorflow<2.17,>=2.16->tf-keras) (3.3.2)\n",
            "Requirement already satisfied: idna<4,>=2.5 in c:\\users\\phy\\appdata\\local\\programs\\python\\python312\\lib\\site-packages (from requests<3,>=2.21.0->tensorflow-intel==2.16.1->tensorflow<2.17,>=2.16->tf-keras) (3.7)\n",
            "Requirement already satisfied: urllib3<3,>=1.21.1 in c:\\users\\phy\\appdata\\local\\programs\\python\\python312\\lib\\site-packages (from requests<3,>=2.21.0->tensorflow-intel==2.16.1->tensorflow<2.17,>=2.16->tf-keras) (2.2.1)\n",
            "Requirement already satisfied: certifi>=2017.4.17 in c:\\users\\phy\\appdata\\local\\programs\\python\\python312\\lib\\site-packages (from requests<3,>=2.21.0->tensorflow-intel==2.16.1->tensorflow<2.17,>=2.16->tf-keras) (2024.2.2)\n",
            "Requirement already satisfied: markdown>=2.6.8 in c:\\users\\phy\\appdata\\local\\programs\\python\\python312\\lib\\site-packages (from tensorboard<2.17,>=2.16->tensorflow-intel==2.16.1->tensorflow<2.17,>=2.16->tf-keras) (3.6)\n",
            "Requirement already satisfied: tensorboard-data-server<0.8.0,>=0.7.0 in c:\\users\\phy\\appdata\\local\\programs\\python\\python312\\lib\\site-packages (from tensorboard<2.17,>=2.16->tensorflow-intel==2.16.1->tensorflow<2.17,>=2.16->tf-keras) (0.7.2)\n",
            "Requirement already satisfied: werkzeug>=1.0.1 in c:\\users\\phy\\appdata\\local\\programs\\python\\python312\\lib\\site-packages (from tensorboard<2.17,>=2.16->tensorflow-intel==2.16.1->tensorflow<2.17,>=2.16->tf-keras) (3.0.3)\n",
            "Requirement already satisfied: MarkupSafe>=2.1.1 in c:\\users\\phy\\appdata\\local\\programs\\python\\python312\\lib\\site-packages (from werkzeug>=1.0.1->tensorboard<2.17,>=2.16->tensorflow-intel==2.16.1->tensorflow<2.17,>=2.16->tf-keras) (2.1.5)\n",
            "Requirement already satisfied: markdown-it-py>=2.2.0 in c:\\users\\phy\\appdata\\local\\programs\\python\\python312\\lib\\site-packages (from rich->keras>=3.0.0->tensorflow-intel==2.16.1->tensorflow<2.17,>=2.16->tf-keras) (3.0.0)\n",
            "Requirement already satisfied: pygments<3.0.0,>=2.13.0 in c:\\users\\phy\\appdata\\roaming\\python\\python312\\site-packages (from rich->keras>=3.0.0->tensorflow-intel==2.16.1->tensorflow<2.17,>=2.16->tf-keras) (2.17.2)\n",
            "Requirement already satisfied: mdurl~=0.1 in c:\\users\\phy\\appdata\\local\\programs\\python\\python312\\lib\\site-packages (from markdown-it-py>=2.2.0->rich->keras>=3.0.0->tensorflow-intel==2.16.1->tensorflow<2.17,>=2.16->tf-keras) (0.1.2)\n"
          ]
        },
        {
          "name": "stderr",
          "output_type": "stream",
          "text": [
            "\n",
            "[notice] A new release of pip is available: 24.0 -> 24.1.1\n",
            "[notice] To update, run: python.exe -m pip install --upgrade pip\n"
          ]
        },
        {
          "name": "stdout",
          "output_type": "stream",
          "text": [
            "Requirement already satisfied: accelerate in c:\\users\\phy\\appdata\\local\\programs\\python\\python312\\lib\\site-packages (0.32.1)\n",
            "Requirement already satisfied: numpy<2.0.0,>=1.17 in c:\\users\\phy\\appdata\\local\\programs\\python\\python312\\lib\\site-packages (from accelerate) (1.26.4)\n",
            "Requirement already satisfied: packaging>=20.0 in c:\\users\\phy\\appdata\\roaming\\python\\python312\\site-packages (from accelerate) (24.0)\n",
            "Requirement already satisfied: psutil in c:\\users\\phy\\appdata\\roaming\\python\\python312\\site-packages (from accelerate) (5.9.8)\n",
            "Requirement already satisfied: pyyaml in c:\\users\\phy\\appdata\\local\\programs\\python\\python312\\lib\\site-packages (from accelerate) (6.0.1)\n",
            "Requirement already satisfied: torch>=1.10.0 in c:\\users\\phy\\appdata\\local\\programs\\python\\python312\\lib\\site-packages (from accelerate) (2.3.0+cu118)\n",
            "Requirement already satisfied: huggingface-hub in c:\\users\\phy\\appdata\\local\\programs\\python\\python312\\lib\\site-packages (from accelerate) (0.23.4)\n",
            "Requirement already satisfied: safetensors>=0.3.1 in c:\\users\\phy\\appdata\\local\\programs\\python\\python312\\lib\\site-packages (from accelerate) (0.4.3)\n",
            "Requirement already satisfied: filelock in c:\\users\\phy\\appdata\\local\\programs\\python\\python312\\lib\\site-packages (from torch>=1.10.0->accelerate) (3.13.1)\n",
            "Requirement already satisfied: typing-extensions>=4.8.0 in c:\\users\\phy\\appdata\\local\\programs\\python\\python312\\lib\\site-packages (from torch>=1.10.0->accelerate) (4.12.0)\n",
            "Requirement already satisfied: sympy in c:\\users\\phy\\appdata\\local\\programs\\python\\python312\\lib\\site-packages (from torch>=1.10.0->accelerate) (1.12)\n",
            "Requirement already satisfied: networkx in c:\\users\\phy\\appdata\\local\\programs\\python\\python312\\lib\\site-packages (from torch>=1.10.0->accelerate) (3.2.1)\n",
            "Requirement already satisfied: jinja2 in c:\\users\\phy\\appdata\\local\\programs\\python\\python312\\lib\\site-packages (from torch>=1.10.0->accelerate) (3.1.3)\n",
            "Requirement already satisfied: fsspec in c:\\users\\phy\\appdata\\local\\programs\\python\\python312\\lib\\site-packages (from torch>=1.10.0->accelerate) (2024.2.0)\n",
            "Requirement already satisfied: mkl<=2021.4.0,>=2021.1.1 in c:\\users\\phy\\appdata\\local\\programs\\python\\python312\\lib\\site-packages (from torch>=1.10.0->accelerate) (2021.4.0)\n",
            "Requirement already satisfied: requests in c:\\users\\phy\\appdata\\local\\programs\\python\\python312\\lib\\site-packages (from huggingface-hub->accelerate) (2.32.2)\n",
            "Requirement already satisfied: tqdm>=4.42.1 in c:\\users\\phy\\appdata\\local\\programs\\python\\python312\\lib\\site-packages (from huggingface-hub->accelerate) (4.66.4)\n",
            "Requirement already satisfied: intel-openmp==2021.* in c:\\users\\phy\\appdata\\local\\programs\\python\\python312\\lib\\site-packages (from mkl<=2021.4.0,>=2021.1.1->torch>=1.10.0->accelerate) (2021.4.0)\n",
            "Requirement already satisfied: tbb==2021.* in c:\\users\\phy\\appdata\\local\\programs\\python\\python312\\lib\\site-packages (from mkl<=2021.4.0,>=2021.1.1->torch>=1.10.0->accelerate) (2021.11.0)\n",
            "Requirement already satisfied: colorama in c:\\users\\phy\\appdata\\roaming\\python\\python312\\site-packages (from tqdm>=4.42.1->huggingface-hub->accelerate) (0.4.6)\n",
            "Requirement already satisfied: MarkupSafe>=2.0 in c:\\users\\phy\\appdata\\local\\programs\\python\\python312\\lib\\site-packages (from jinja2->torch>=1.10.0->accelerate) (2.1.5)\n",
            "Requirement already satisfied: charset-normalizer<4,>=2 in c:\\users\\phy\\appdata\\local\\programs\\python\\python312\\lib\\site-packages (from requests->huggingface-hub->accelerate) (3.3.2)\n",
            "Requirement already satisfied: idna<4,>=2.5 in c:\\users\\phy\\appdata\\local\\programs\\python\\python312\\lib\\site-packages (from requests->huggingface-hub->accelerate) (3.7)\n",
            "Requirement already satisfied: urllib3<3,>=1.21.1 in c:\\users\\phy\\appdata\\local\\programs\\python\\python312\\lib\\site-packages (from requests->huggingface-hub->accelerate) (2.2.1)\n",
            "Requirement already satisfied: certifi>=2017.4.17 in c:\\users\\phy\\appdata\\local\\programs\\python\\python312\\lib\\site-packages (from requests->huggingface-hub->accelerate) (2024.2.2)\n",
            "Requirement already satisfied: mpmath>=0.19 in c:\\users\\phy\\appdata\\local\\programs\\python\\python312\\lib\\site-packages (from sympy->torch>=1.10.0->accelerate) (1.3.0)\n"
          ]
        },
        {
          "name": "stderr",
          "output_type": "stream",
          "text": [
            "\n",
            "[notice] A new release of pip is available: 24.0 -> 24.1.1\n",
            "[notice] To update, run: python.exe -m pip install --upgrade pip\n"
          ]
        },
        {
          "name": "stdout",
          "output_type": "stream",
          "text": [
            "Requirement already satisfied: transformers[torch] in c:\\users\\phy\\appdata\\local\\programs\\python\\python312\\lib\\site-packages (4.42.3)\n",
            "Requirement already satisfied: filelock in c:\\users\\phy\\appdata\\local\\programs\\python\\python312\\lib\\site-packages (from transformers[torch]) (3.13.1)\n",
            "Requirement already satisfied: huggingface-hub<1.0,>=0.23.2 in c:\\users\\phy\\appdata\\local\\programs\\python\\python312\\lib\\site-packages (from transformers[torch]) (0.23.4)\n",
            "Requirement already satisfied: numpy<2.0,>=1.17 in c:\\users\\phy\\appdata\\local\\programs\\python\\python312\\lib\\site-packages (from transformers[torch]) (1.26.4)\n",
            "Requirement already satisfied: packaging>=20.0 in c:\\users\\phy\\appdata\\roaming\\python\\python312\\site-packages (from transformers[torch]) (24.0)\n",
            "Requirement already satisfied: pyyaml>=5.1 in c:\\users\\phy\\appdata\\local\\programs\\python\\python312\\lib\\site-packages (from transformers[torch]) (6.0.1)\n",
            "Requirement already satisfied: regex!=2019.12.17 in c:\\users\\phy\\appdata\\local\\programs\\python\\python312\\lib\\site-packages (from transformers[torch]) (2024.5.15)\n",
            "Requirement already satisfied: requests in c:\\users\\phy\\appdata\\local\\programs\\python\\python312\\lib\\site-packages (from transformers[torch]) (2.32.2)\n",
            "Requirement already satisfied: safetensors>=0.4.1 in c:\\users\\phy\\appdata\\local\\programs\\python\\python312\\lib\\site-packages (from transformers[torch]) (0.4.3)\n",
            "Requirement already satisfied: tokenizers<0.20,>=0.19 in c:\\users\\phy\\appdata\\local\\programs\\python\\python312\\lib\\site-packages (from transformers[torch]) (0.19.1)\n",
            "Requirement already satisfied: tqdm>=4.27 in c:\\users\\phy\\appdata\\local\\programs\\python\\python312\\lib\\site-packages (from transformers[torch]) (4.66.4)\n",
            "Requirement already satisfied: accelerate>=0.21.0 in c:\\users\\phy\\appdata\\local\\programs\\python\\python312\\lib\\site-packages (from transformers[torch]) (0.32.1)\n",
            "Requirement already satisfied: torch in c:\\users\\phy\\appdata\\local\\programs\\python\\python312\\lib\\site-packages (from transformers[torch]) (2.3.0+cu118)\n",
            "Requirement already satisfied: psutil in c:\\users\\phy\\appdata\\roaming\\python\\python312\\site-packages (from accelerate>=0.21.0->transformers[torch]) (5.9.8)\n",
            "Requirement already satisfied: fsspec>=2023.5.0 in c:\\users\\phy\\appdata\\local\\programs\\python\\python312\\lib\\site-packages (from huggingface-hub<1.0,>=0.23.2->transformers[torch]) (2024.2.0)\n",
            "Requirement already satisfied: typing-extensions>=3.7.4.3 in c:\\users\\phy\\appdata\\local\\programs\\python\\python312\\lib\\site-packages (from huggingface-hub<1.0,>=0.23.2->transformers[torch]) (4.12.0)\n",
            "Requirement already satisfied: sympy in c:\\users\\phy\\appdata\\local\\programs\\python\\python312\\lib\\site-packages (from torch->transformers[torch]) (1.12)\n",
            "Requirement already satisfied: networkx in c:\\users\\phy\\appdata\\local\\programs\\python\\python312\\lib\\site-packages (from torch->transformers[torch]) (3.2.1)\n",
            "Requirement already satisfied: jinja2 in c:\\users\\phy\\appdata\\local\\programs\\python\\python312\\lib\\site-packages (from torch->transformers[torch]) (3.1.3)\n",
            "Requirement already satisfied: mkl<=2021.4.0,>=2021.1.1 in c:\\users\\phy\\appdata\\local\\programs\\python\\python312\\lib\\site-packages (from torch->transformers[torch]) (2021.4.0)\n",
            "Requirement already satisfied: colorama in c:\\users\\phy\\appdata\\roaming\\python\\python312\\site-packages (from tqdm>=4.27->transformers[torch]) (0.4.6)\n",
            "Requirement already satisfied: charset-normalizer<4,>=2 in c:\\users\\phy\\appdata\\local\\programs\\python\\python312\\lib\\site-packages (from requests->transformers[torch]) (3.3.2)\n",
            "Requirement already satisfied: idna<4,>=2.5 in c:\\users\\phy\\appdata\\local\\programs\\python\\python312\\lib\\site-packages (from requests->transformers[torch]) (3.7)\n",
            "Requirement already satisfied: urllib3<3,>=1.21.1 in c:\\users\\phy\\appdata\\local\\programs\\python\\python312\\lib\\site-packages (from requests->transformers[torch]) (2.2.1)\n",
            "Requirement already satisfied: certifi>=2017.4.17 in c:\\users\\phy\\appdata\\local\\programs\\python\\python312\\lib\\site-packages (from requests->transformers[torch]) (2024.2.2)\n",
            "Requirement already satisfied: intel-openmp==2021.* in c:\\users\\phy\\appdata\\local\\programs\\python\\python312\\lib\\site-packages (from mkl<=2021.4.0,>=2021.1.1->torch->transformers[torch]) (2021.4.0)\n",
            "Requirement already satisfied: tbb==2021.* in c:\\users\\phy\\appdata\\local\\programs\\python\\python312\\lib\\site-packages (from mkl<=2021.4.0,>=2021.1.1->torch->transformers[torch]) (2021.11.0)\n",
            "Requirement already satisfied: MarkupSafe>=2.0 in c:\\users\\phy\\appdata\\local\\programs\\python\\python312\\lib\\site-packages (from jinja2->torch->transformers[torch]) (2.1.5)\n",
            "Requirement already satisfied: mpmath>=0.19 in c:\\users\\phy\\appdata\\local\\programs\\python\\python312\\lib\\site-packages (from sympy->torch->transformers[torch]) (1.3.0)\n"
          ]
        },
        {
          "name": "stderr",
          "output_type": "stream",
          "text": [
            "\n",
            "[notice] A new release of pip is available: 24.0 -> 24.1.1\n",
            "[notice] To update, run: python.exe -m pip install --upgrade pip\n"
          ]
        }
      ],
      "source": [
        "!pip install transformers\n",
        "!pip install torch\n",
        "!pip install datasets\n",
        "!pip install huggingface_hub\n",
        "!pip install tf-keras\n",
        "!pip install accelerate -U\n",
        "!pip install transformers[torch]\n",
        "!pip install evaluate"
      ]
    },
    {
      "cell_type": "code",
      "execution_count": 1,
      "metadata": {},
      "outputs": [],
      "source": [
        "from tqdm import tqdm"
      ]
    },
    {
      "cell_type": "code",
      "execution_count": 2,
      "metadata": {
        "colab": {
          "base_uri": "https://localhost:8080/"
        },
        "id": "-i--c6fLlxry",
        "outputId": "bc92e42a-cc05-4cc3-9806-8653450b3873"
      },
      "outputs": [
        {
          "name": "stderr",
          "output_type": "stream",
          "text": [
            "c:\\Users\\PHY\\AppData\\Local\\Programs\\Python\\Python312\\Lib\\site-packages\\tqdm\\auto.py:21: TqdmWarning: IProgress not found. Please update jupyter and ipywidgets. See https://ipywidgets.readthedocs.io/en/stable/user_install.html\n",
            "  from .autonotebook import tqdm as notebook_tqdm\n"
          ]
        },
        {
          "name": "stdout",
          "output_type": "stream",
          "text": [
            "The token has not been saved to the git credentials helper. Pass `add_to_git_credential=True` in this function directly or `--add-to-git-credential` if using via `huggingface-cli` if you want to set the git credential as well.\n",
            "Token is valid (permission: fineGrained).\n",
            "Your token has been saved to C:\\Users\\PHY\\.cache\\huggingface\\token\n",
            "Login successful\n"
          ]
        }
      ],
      "source": [
        "from huggingface_hub import login\n",
        "\n",
        "# Login using your Hugging Face token\n",
        "\n",
        "Saessak_token = \"\"\n",
        "\n",
        "login(token=Saessak_token)"
      ]
    },
    {
      "cell_type": "code",
      "execution_count": 1,
      "metadata": {},
      "outputs": [
        {
          "ename": "ModuleNotFoundError",
          "evalue": "No module named 'datasets'",
          "output_type": "error",
          "traceback": [
            "\u001b[1;31m---------------------------------------------------------------------------\u001b[0m",
            "\u001b[1;31mModuleNotFoundError\u001b[0m                       Traceback (most recent call last)",
            "Cell \u001b[1;32mIn[1], line 2\u001b[0m\n\u001b[0;32m      1\u001b[0m \u001b[38;5;66;03m# 여기서 난 오류로 data_path 파악\u001b[39;00m\n\u001b[1;32m----> 2\u001b[0m \u001b[38;5;28;01mfrom\u001b[39;00m \u001b[38;5;21;01mdatasets\u001b[39;00m \u001b[38;5;28;01mimport\u001b[39;00m load_dataset, load_metric, Dataset\n\u001b[0;32m      4\u001b[0m dataset \u001b[38;5;241m=\u001b[39m load_dataset(\u001b[38;5;124m\"\u001b[39m\u001b[38;5;124mSaessak/Conversation\u001b[39m\u001b[38;5;124m\"\u001b[39m, cache_dir\u001b[38;5;241m=\u001b[39m\u001b[38;5;124m\"\u001b[39m\u001b[38;5;124m./hf_cache\u001b[39m\u001b[38;5;124m\"\u001b[39m)\n",
            "\u001b[1;31mModuleNotFoundError\u001b[0m: No module named 'datasets'"
          ]
        }
      ],
      "source": [
        "# 여기서 난 오류로 data_path 파악\n",
        "from datasets import load_dataset, load_metric, Dataset\n",
        "\n",
        "dataset = load_dataset(\"Saessak/Conversation\", cache_dir=\"./hf_cache\")"
      ]
    },
    {
      "cell_type": "code",
      "execution_count": 4,
      "metadata": {
        "colab": {
          "base_uri": "https://localhost:8080/"
        },
        "id": "KNJLmTcG1T4X",
        "outputId": "bdcd028e-4faa-4912-dcbe-7b7a1f48caf3"
      },
      "outputs": [
        {
          "name": "stdout",
          "output_type": "stream",
          "text": [
            "Current column names: Index(['음성인식결과', '스크립트ID', '파일명', '녹음시간', '녹음품질', '녹음일시', '스크립트셋번호', '녹음환경',\n",
            "       '수집방법', '지역', '녹음도구', '대화주제', '성별', '녹음자ID', '나이'],\n",
            "      dtype='object')\n",
            "Renamed column names: Index(['speech_recognition_result', 'script_id', 'file_name', 'recording_time',\n",
            "       'recording_quality', 'recording_datetime', 'script_set_number',\n",
            "       'recording_environment', 'collection_method', 'region',\n",
            "       'recording_tool', 'conversation_topic', 'gender', 'recorder_id', 'age'],\n",
            "      dtype='object')\n"
          ]
        }
      ],
      "source": [
        "import pandas as pd\n",
        "import pyarrow.parquet as pq\n",
        "\n",
        "# Load the dataset file manually using pyarrow\n",
        "\n",
        "# 데이터 패스는 매번 변할 것이다.\n",
        "# load_dataset 오류를 보면 어떤 패스인지 나온\n",
        "data_path = rf\"\"\n",
        "table = pq.read_table(data_path)\n",
        "\n",
        "# Convert to pandas DataFrame\n",
        "df = table.to_pandas()\n",
        "\n",
        "# Display the current column names\n",
        "print(\"Current column names:\", df.columns)\n",
        "\n",
        "# Define the expected column names mapping\n",
        "expected_columns = {\n",
        "    '음성인식결과': 'speech_recognition_result',\n",
        "    '스크립트ID': 'script_id',\n",
        "    '파일명': 'file_name',\n",
        "    '녹음시간': 'recording_time',\n",
        "    '녹음품질': 'recording_quality',\n",
        "    '녹음일시': 'recording_datetime',\n",
        "    '스크립트셋번호': 'script_set_number',\n",
        "    '녹음환경': 'recording_environment',\n",
        "    '수집방법': 'collection_method',\n",
        "    '지역': 'region',\n",
        "    '녹음도구': 'recording_tool',\n",
        "    '대화주제': 'conversation_topic',\n",
        "    '성별': 'gender',\n",
        "    '녹음자ID': 'recorder_id',\n",
        "    '나이': 'age'\n",
        "}\n",
        "\n",
        "# Rename the columns\n",
        "df.rename(columns=expected_columns, inplace=True)\n",
        "\n",
        "# Save the DataFrame back to Parquet with the new column names\n",
        "new_data_path = './hf_cache/renamed_dataset.parquet'\n",
        "df.to_parquet(new_data_path)\n",
        "\n",
        "print(\"Renamed column names:\", df.columns)\n"
      ]
    },
    {
      "cell_type": "code",
      "execution_count": 5,
      "metadata": {
        "colab": {
          "base_uri": "https://localhost:8080/",
          "height": 673,
          "referenced_widgets": [
            "2be3d2bfda5b407ca328357ec35b7cb2",
            "82b7b27250ee467e8c5c4e24f43d4fca",
            "7479e37ab1424c1a94f890625d72c241",
            "6ef796c3e4404c52aa7116f245074177",
            "489f6afcb9fb40479d6167803e66ef51",
            "74effbc5289d4124836c561517678596",
            "4f93ed49dc3345bcb39d1efd4f8aa243",
            "05ab1a3035514d84bbe126302a98aeac",
            "c7eb1cc40d894cba82b84ce8a41cb41d",
            "e361e14d9636410a9cd7e9d9ed185ca7",
            "3a2f22a45cf84e93942df5e9bca83983"
          ]
        },
        "id": "euwY-5Wu1efb",
        "outputId": "dd956682-34f0-427a-ef11-8e7bd18ee4ec"
      },
      "outputs": [
        {
          "name": "stderr",
          "output_type": "stream",
          "text": [
            "Generating train split: 2509153 examples [00:00, 3698231.72 examples/s]\n"
          ]
        },
        {
          "name": "stdout",
          "output_type": "stream",
          "text": [
            "  speech_recognition_result   script_id  \\\n",
            "0                 내일 또 얘기하자  소아남녀-64059   \n",
            "1                교복을 입고 왔어요  소아남녀-64307   \n",
            "2                  나는 씩씩해요   소아남녀-02094   \n",
            "3           빨리 내일이 됐으면 좋겠다   소아남녀-03402   \n",
            "4    (NO:그럼 물고기똥도) 같이 맞는 거야  소아남녀-02634   \n",
            "\n",
            "                                         file_name  recording_time  \\\n",
            "0  소아남여_소아남여8001_F_1611226664-0_5_수도권_실외_64059.wav            2.73   \n",
            "1  소아남여_소아남여8001_F_1611226664-0_5_수도권_실외_64307.wav            3.50   \n",
            "2    소아남여_소아남여02_F_1565719340-0_7_수도권_실내_02094.wav            2.39   \n",
            "3    소아남여_소아남여02_F_1565719340-0_7_수도권_실내_03402.wav            4.01   \n",
            "4    소아남여_소아남여02_F_1565719340-0_7_수도권_실내_02634.wav            3.50   \n",
            "\n",
            "  recording_quality   recording_datetime script_set_number  \\\n",
            "0               16K  2021-01-30 14:45:44       I_소아남녀_8001   \n",
            "1               16K  2021-02-04 13:31:00       I_소아남녀_8001   \n",
            "2               16K  2020-12-31 16:30:42          T_소아남녀_2   \n",
            "3               16K  2021-01-06 18:56:32          T_소아남녀_2   \n",
            "4               16K  2021-01-03 20:27:29          T_소아남녀_2   \n",
            "\n",
            "  recording_environment collection_method region recording_tool  \\\n",
            "0                    실외             AI 챗봇    수도권      AndroidOS   \n",
            "1                    실외             AI 챗봇    수도권            iOS   \n",
            "2                    실내             AI 챗봇    수도권      AndroidOS   \n",
            "3                    실내             AI 챗봇    수도권            iOS   \n",
            "4                    실내             AI 챗봇    수도권            iOS   \n",
            "\n",
            "  conversation_topic gender   recorder_id  age  \n",
            "0                 학교      여  1611226664-0    5  \n",
            "1                 교복      여  1611226664-0    5  \n",
            "2           소풍을 다녀와서      여  1565719340-0    7  \n",
            "3          삼촌댁에 놀러가기      여  1565719340-0    7  \n",
            "4              삶과 죽음      여  1565719340-0    7  \n"
          ]
        }
      ],
      "source": [
        "# Use a different cache directory\n",
        "dataset = load_dataset('parquet', data_files=new_data_path, cache_dir=\"./hf_cache\")\n",
        "\n",
        "# Display the first few rows of the training set\n",
        "print(dataset['train'].to_pandas().head())"
      ]
    },
    {
      "cell_type": "code",
      "execution_count": 6,
      "metadata": {
        "id": "QTWcR9sa1uVC"
      },
      "outputs": [],
      "source": [
        "df_age_conv = dataset['train'].to_pandas().loc[:,['speech_recognition_result','age']]"
      ]
    },
    {
      "cell_type": "code",
      "execution_count": 7,
      "metadata": {
        "colab": {
          "base_uri": "https://localhost:8080/",
          "height": 424
        },
        "id": "zdOFlijo20_y",
        "outputId": "859d46d0-9e6b-44a2-a111-07ec43bd302e"
      },
      "outputs": [
        {
          "data": {
            "text/html": [
              "<div>\n",
              "<style scoped>\n",
              "    .dataframe tbody tr th:only-of-type {\n",
              "        vertical-align: middle;\n",
              "    }\n",
              "\n",
              "    .dataframe tbody tr th {\n",
              "        vertical-align: top;\n",
              "    }\n",
              "\n",
              "    .dataframe thead th {\n",
              "        text-align: right;\n",
              "    }\n",
              "</style>\n",
              "<table border=\"1\" class=\"dataframe\">\n",
              "  <thead>\n",
              "    <tr style=\"text-align: right;\">\n",
              "      <th></th>\n",
              "      <th>speech</th>\n",
              "      <th>age</th>\n",
              "    </tr>\n",
              "  </thead>\n",
              "  <tbody>\n",
              "    <tr>\n",
              "      <th>0</th>\n",
              "      <td>내일 또 얘기하자</td>\n",
              "      <td>5</td>\n",
              "    </tr>\n",
              "    <tr>\n",
              "      <th>1</th>\n",
              "      <td>교복을 입고 왔어요</td>\n",
              "      <td>5</td>\n",
              "    </tr>\n",
              "    <tr>\n",
              "      <th>2</th>\n",
              "      <td>나는 씩씩해요</td>\n",
              "      <td>7</td>\n",
              "    </tr>\n",
              "    <tr>\n",
              "      <th>3</th>\n",
              "      <td>빨리 내일이 됐으면 좋겠다</td>\n",
              "      <td>7</td>\n",
              "    </tr>\n",
              "    <tr>\n",
              "      <th>4</th>\n",
              "      <td>(NO:그럼 물고기똥도) 같이 맞는 거야</td>\n",
              "      <td>7</td>\n",
              "    </tr>\n",
              "    <tr>\n",
              "      <th>...</th>\n",
              "      <td>...</td>\n",
              "      <td>...</td>\n",
              "    </tr>\n",
              "    <tr>\n",
              "      <th>2509148</th>\n",
              "      <td>오늘 병원 가서 키 재고 몸무게 재고 시력 검사도 했어요</td>\n",
              "      <td>7</td>\n",
              "    </tr>\n",
              "    <tr>\n",
              "      <th>2509149</th>\n",
              "      <td>어제 인기가요 봤어</td>\n",
              "      <td>7</td>\n",
              "    </tr>\n",
              "    <tr>\n",
              "      <th>2509150</th>\n",
              "      <td>할머니 진지 드세요</td>\n",
              "      <td>7</td>\n",
              "    </tr>\n",
              "    <tr>\n",
              "      <th>2509151</th>\n",
              "      <td>떡볶이가 너무 매워요</td>\n",
              "      <td>7</td>\n",
              "    </tr>\n",
              "    <tr>\n",
              "      <th>2509152</th>\n",
              "      <td>요새 계속 이가 아팠는데 치과에 갔더니 썩었대요</td>\n",
              "      <td>7</td>\n",
              "    </tr>\n",
              "  </tbody>\n",
              "</table>\n",
              "<p>2509153 rows × 2 columns</p>\n",
              "</div>"
            ],
            "text/plain": [
              "                                  speech  age\n",
              "0                              내일 또 얘기하자    5\n",
              "1                             교복을 입고 왔어요    5\n",
              "2                               나는 씩씩해요     7\n",
              "3                        빨리 내일이 됐으면 좋겠다     7\n",
              "4                 (NO:그럼 물고기똥도) 같이 맞는 거야    7\n",
              "...                                  ...  ...\n",
              "2509148  오늘 병원 가서 키 재고 몸무게 재고 시력 검사도 했어요    7\n",
              "2509149                       어제 인기가요 봤어    7\n",
              "2509150                       할머니 진지 드세요    7\n",
              "2509151                      떡볶이가 너무 매워요    7\n",
              "2509152       요새 계속 이가 아팠는데 치과에 갔더니 썩었대요    7\n",
              "\n",
              "[2509153 rows x 2 columns]"
            ]
          },
          "execution_count": 7,
          "metadata": {},
          "output_type": "execute_result"
        }
      ],
      "source": [
        "df_age_conv.rename(columns = {'speech_recognition_result':'speech'},inplace = True)\n",
        "df_age_conv"
      ]
    },
    {
      "cell_type": "markdown",
      "metadata": {},
      "source": [
        "# 동일한 개수의 text"
      ]
    },
    {
      "cell_type": "code",
      "execution_count": 8,
      "metadata": {},
      "outputs": [
        {
          "name": "stdout",
          "output_type": "stream",
          "text": [
            "label\n",
            "0    24062\n",
            "1    24062\n",
            "2    24062\n",
            "3    24062\n",
            "4    24062\n",
            "5    24062\n",
            "6    24062\n",
            "7    24062\n",
            "Name: count, dtype: int64\n"
          ]
        },
        {
          "name": "stderr",
          "output_type": "stream",
          "text": [
            "C:\\Users\\PHY\\AppData\\Local\\Temp\\ipykernel_16952\\3665979292.py:17: DeprecationWarning: DataFrameGroupBy.apply operated on the grouping columns. This behavior is deprecated, and in a future version of pandas the grouping columns will be excluded from the operation. Either pass `include_groups=False` to exclude the groupings or explicitly select the grouping columns after groupby to silence this warning.\n",
            "  balanced_df = df_age_conv.groupby('label').apply(lambda x: x.sample(min_count)).reset_index(drop=True)\n"
          ]
        },
        {
          "data": {
            "text/html": [
              "<div>\n",
              "<style scoped>\n",
              "    .dataframe tbody tr th:only-of-type {\n",
              "        vertical-align: middle;\n",
              "    }\n",
              "\n",
              "    .dataframe tbody tr th {\n",
              "        vertical-align: top;\n",
              "    }\n",
              "\n",
              "    .dataframe thead th {\n",
              "        text-align: right;\n",
              "    }\n",
              "</style>\n",
              "<table border=\"1\" class=\"dataframe\">\n",
              "  <thead>\n",
              "    <tr style=\"text-align: right;\">\n",
              "      <th></th>\n",
              "      <th>text</th>\n",
              "      <th>label</th>\n",
              "    </tr>\n",
              "  </thead>\n",
              "  <tbody>\n",
              "    <tr>\n",
              "      <th>0</th>\n",
              "      <td>이 옷은 편해요</td>\n",
              "      <td>0</td>\n",
              "    </tr>\n",
              "    <tr>\n",
              "      <th>1</th>\n",
              "      <td>놀이터는 재미있어</td>\n",
              "      <td>0</td>\n",
              "    </tr>\n",
              "    <tr>\n",
              "      <th>2</th>\n",
              "      <td>영화에도 나왔어요</td>\n",
              "      <td>0</td>\n",
              "    </tr>\n",
              "    <tr>\n",
              "      <th>3</th>\n",
              "      <td>고개를 숙여요</td>\n",
              "      <td>0</td>\n",
              "    </tr>\n",
              "    <tr>\n",
              "      <th>4</th>\n",
              "      <td>옥수수를 반으로 잘랐어요</td>\n",
              "      <td>0</td>\n",
              "    </tr>\n",
              "    <tr>\n",
              "      <th>...</th>\n",
              "      <td>...</td>\n",
              "      <td>...</td>\n",
              "    </tr>\n",
              "    <tr>\n",
              "      <th>192491</th>\n",
              "      <td>내 동생은 나보다 걔가 좋은가 봐</td>\n",
              "      <td>7</td>\n",
              "    </tr>\n",
              "    <tr>\n",
              "      <th>192492</th>\n",
              "      <td>그럼 나 안 먹을 거야</td>\n",
              "      <td>7</td>\n",
              "    </tr>\n",
              "    <tr>\n",
              "      <th>192493</th>\n",
              "      <td>불이 나면 숨어 있으면 안된댔어</td>\n",
              "      <td>7</td>\n",
              "    </tr>\n",
              "    <tr>\n",
              "      <th>192494</th>\n",
              "      <td>(SP:아)침 일찍 공항에 가서 비행기를 타고 제주도에 갔어</td>\n",
              "      <td>7</td>\n",
              "    </tr>\n",
              "    <tr>\n",
              "      <th>192495</th>\n",
              "      <td>바람이 불어서 나무가 흔들려요</td>\n",
              "      <td>7</td>\n",
              "    </tr>\n",
              "  </tbody>\n",
              "</table>\n",
              "<p>192496 rows × 2 columns</p>\n",
              "</div>"
            ],
            "text/plain": [
              "                                     text  label\n",
              "0                                이 옷은 편해요      0\n",
              "1                               놀이터는 재미있어      0\n",
              "2                               영화에도 나왔어요      0\n",
              "3                                 고개를 숙여요      0\n",
              "4                           옥수수를 반으로 잘랐어요      0\n",
              "...                                   ...    ...\n",
              "192491                내 동생은 나보다 걔가 좋은가 봐       7\n",
              "192492                      그럼 나 안 먹을 거야       7\n",
              "192493                 불이 나면 숨어 있으면 안된댔어       7\n",
              "192494  (SP:아)침 일찍 공항에 가서 비행기를 타고 제주도에 갔어      7\n",
              "192495                   바람이 불어서 나무가 흔들려요      7\n",
              "\n",
              "[192496 rows x 2 columns]"
            ]
          },
          "execution_count": 8,
          "metadata": {},
          "output_type": "execute_result"
        }
      ],
      "source": [
        "# Rename columns if necessary to match expected format\n",
        "df_age_conv.columns = ['text', 'label']\n",
        "\n",
        "original_labels = df_age_conv['label'].unique()\n",
        "label_mapping = {original_label: new_label for new_label, original_label in enumerate(sorted(original_labels))}\n",
        "\n",
        "# Apply the mapping to the 'label' column\n",
        "df_age_conv['label'] = df_age_conv['label'].map(label_mapping)\n",
        "\n",
        "\n",
        "label_counts = df_age_conv['label'].value_counts()\n",
        "\n",
        "# Determine the minimum count of texts for any label\n",
        "min_count = label_counts.min()\n",
        "\n",
        "# Sample texts from each label\n",
        "balanced_df = df_age_conv.groupby('label').apply(lambda x: x.sample(min_count)).reset_index(drop=True)\n",
        "\n",
        "# Optionally, you can check the counts to verify\n",
        "print(balanced_df['label'].value_counts())\n",
        "\n",
        "balanced_df"
      ]
    },
    {
      "cell_type": "markdown",
      "metadata": {
        "id": "WnLV0ac64dyh"
      },
      "source": [
        "# 모델 튜닝"
      ]
    },
    {
      "cell_type": "code",
      "execution_count": 9,
      "metadata": {},
      "outputs": [
        {
          "name": "stdout",
          "output_type": "stream",
          "text": [
            "CUDA is available. Using GPU.\n"
          ]
        }
      ],
      "source": [
        "import torch\n",
        "\n",
        "# Check if CUDA is available\n",
        "if torch.cuda.is_available():\n",
        "    device = torch.device(\"cuda\")\n",
        "    print(\"CUDA is available. Using GPU.\")\n",
        "else:\n",
        "    device = torch.device(\"cpu\")\n",
        "    print(\"CUDA is not available. Using CPU.\")\n"
      ]
    },
    {
      "cell_type": "code",
      "execution_count": 10,
      "metadata": {},
      "outputs": [],
      "source": [
        "import os\n",
        "\n",
        "output_dir = rf\"C:\\Users\\PHY\\Desktop\\robert\\result\"\n",
        "logging_dir = rf\"C:\\Users\\PHY\\Desktop\\robert\\log\"\n",
        "\n",
        "output_dir_sonnet = rf\"C:\\Users\\PHY\\Desktop\\robert\\result_sonnet\"\n",
        "logging_dir_sonnet = rf\"C:\\Users\\PHY\\Desktop\\robert\\log_sonnet\""
      ]
    },
    {
      "cell_type": "markdown",
      "metadata": {},
      "source": [
        "# Medium 참고 코드 "
      ]
    },
    {
      "cell_type": "markdown",
      "metadata": {},
      "source": [
        "## Dataset으로 다시 변환"
      ]
    },
    {
      "cell_type": "code",
      "execution_count": 11,
      "metadata": {},
      "outputs": [
        {
          "data": {
            "text/plain": [
              "DatasetDict({\n",
              "    train: Dataset({\n",
              "        features: ['text', 'label'],\n",
              "        num_rows: 134747\n",
              "    })\n",
              "    test: Dataset({\n",
              "        features: ['text', 'label'],\n",
              "        num_rows: 57749\n",
              "    })\n",
              "})"
            ]
          },
          "execution_count": 11,
          "metadata": {},
          "output_type": "execute_result"
        }
      ],
      "source": [
        "from datasets import Dataset\n",
        "\n",
        "balanced_dataset = Dataset.from_pandas(balanced_df)\n",
        "\n",
        "balanced_dataset\n",
        "\n",
        "splitted_datasets = balanced_dataset.train_test_split(test_size = 0.3)\n",
        "\n",
        "splitted_datasets"
      ]
    },
    {
      "cell_type": "code",
      "execution_count": 12,
      "metadata": {},
      "outputs": [
        {
          "name": "stdout",
          "output_type": "stream",
          "text": [
            "label\n",
            "6    16957\n",
            "7    16946\n",
            "3    16924\n",
            "2    16871\n",
            "5    16827\n",
            "4    16793\n",
            "1    16775\n",
            "0    16654\n",
            "Name: count, dtype: int64\n",
            "label\n",
            "0    7408\n",
            "1    7287\n",
            "4    7269\n",
            "5    7235\n",
            "2    7191\n",
            "3    7138\n",
            "7    7116\n",
            "6    7105\n",
            "Name: count, dtype: int64\n"
          ]
        }
      ],
      "source": [
        "train_df = pd.DataFrame(splitted_datasets['train'])\n",
        "test_df = pd.DataFrame(splitted_datasets['test'])\n",
        "\n",
        "print(train_df['label'].value_counts())\n",
        "print(test_df['label'].value_counts())"
      ]
    },
    {
      "cell_type": "code",
      "execution_count": 13,
      "metadata": {},
      "outputs": [
        {
          "data": {
            "text/plain": [
              "{'accuracy': 0.75}"
            ]
          },
          "execution_count": 13,
          "metadata": {},
          "output_type": "execute_result"
        }
      ],
      "source": [
        "import evaluate\n",
        "\n",
        "metric = evaluate.load(\"accuracy\")\n",
        "\n",
        "metric.compute(predictions=[0,0,1,1], references=[0,1,1,1])"
      ]
    },
    {
      "cell_type": "code",
      "execution_count": 14,
      "metadata": {},
      "outputs": [
        {
          "data": {
            "text/plain": [
              "{'input_ids': [[0, 5891, 16, 717, 2259, 6265, 2052, 2275, 5, 2]], 'token_type_ids': [[0, 0, 0, 0, 0, 0, 0, 0, 0, 0]], 'attention_mask': [[1, 1, 1, 1, 1, 1, 1, 1, 1, 1]]}"
            ]
          },
          "execution_count": 14,
          "metadata": {},
          "output_type": "execute_result"
        }
      ],
      "source": [
        "from transformers import AutoTokenizer\n",
        "\n",
        "model_checkpoint = \"klue/roberta-large\"\n",
        "\n",
        "tokenizer = AutoTokenizer.from_pretrained(model_checkpoint, use_fast = True)\n",
        "\n",
        "tokenizer([\"안녕, 나는 문장이야!\"])"
      ]
    },
    {
      "cell_type": "code",
      "execution_count": 15,
      "metadata": {},
      "outputs": [
        {
          "name": "stderr",
          "output_type": "stream",
          "text": [
            "Map: 100%|██████████| 134747/134747 [00:02<00:00, 64448.20 examples/s]\n",
            "Map: 100%|██████████| 57749/57749 [00:00<00:00, 60359.04 examples/s]\n"
          ]
        }
      ],
      "source": [
        "def preprocess_function_batch(examples):\n",
        "    return tokenizer(examples[\"text\"], truncation=True)\n",
        "\n",
        "splitted_datasets_encoded = splitted_datasets.map(preprocess_function_batch, batched=True)"
      ]
    },
    {
      "cell_type": "code",
      "execution_count": 16,
      "metadata": {},
      "outputs": [
        {
          "name": "stdout",
          "output_type": "stream",
          "text": [
            "WARNING:tensorflow:From c:\\Users\\PHY\\AppData\\Local\\Programs\\Python\\Python312\\Lib\\site-packages\\tf_keras\\src\\losses.py:2976: The name tf.losses.sparse_softmax_cross_entropy is deprecated. Please use tf.compat.v1.losses.sparse_softmax_cross_entropy instead.\n",
            "\n"
          ]
        },
        {
          "name": "stderr",
          "output_type": "stream",
          "text": [
            "Some weights of RobertaForSequenceClassification were not initialized from the model checkpoint at klue/roberta-large and are newly initialized: ['classifier.dense.bias', 'classifier.dense.weight', 'classifier.out_proj.bias', 'classifier.out_proj.weight']\n",
            "You should probably TRAIN this model on a down-stream task to be able to use it for predictions and inference.\n"
          ]
        }
      ],
      "source": [
        "from transformers import TrainingArguments, Trainer\n",
        "from transformers import AutoModelForSequenceClassification\n",
        "\n",
        "model = AutoModelForSequenceClassification.from_pretrained(model_checkpoint, num_labels=8)"
      ]
    },
    {
      "cell_type": "code",
      "execution_count": null,
      "metadata": {},
      "outputs": [
        {
          "name": "stdout",
          "output_type": "stream",
          "text": [
            "C:\\Users\\PHY\\Desktop\\robert\\klueroberta_large_finetuned_age_classification\n"
          ]
        },
        {
          "data": {
            "text/plain": [
              "Reusing TensorBoard on port 6008 (pid 9296), started 10:50:12 ago. (Use '!kill 9296' to kill it.)"
            ]
          },
          "metadata": {},
          "output_type": "display_data"
        },
        {
          "data": {
            "text/html": [
              "\n",
              "      <iframe id=\"tensorboard-frame-aadf459a2bb208de\" width=\"100%\" height=\"800\" frameborder=\"0\">\n",
              "      </iframe>\n",
              "      <script>\n",
              "        (function() {\n",
              "          const frame = document.getElementById(\"tensorboard-frame-aadf459a2bb208de\");\n",
              "          const url = new URL(\"http://localhost\");\n",
              "          const port = 6008;\n",
              "          if (port) {\n",
              "            url.port = port;\n",
              "          }\n",
              "          frame.src = url;\n",
              "        })();\n",
              "      </script>\n",
              "    "
            ],
            "text/plain": [
              "<IPython.core.display.HTML object>"
            ]
          },
          "metadata": {},
          "output_type": "display_data"
        }
      ],
      "source": [
        "#!pip install tensorboard\n",
        "\n",
        "model_output_dir = rf\"C:\\Users\\PHY\\Desktop\\robert\\klueroberta_large_finetuned_age_classification\"\n",
        "\n",
        "\n",
        "print(model_output_dir)\n",
        "\n",
        "# 모니터링 위해 TensorBoard 시작\n",
        "%reload_ext tensorboard\n",
        "%tensorboard --logdir '{model_output_dir}'/runs"
      ]
    },
    {
      "cell_type": "markdown",
      "metadata": {},
      "source": [
        "## Training 파라미터 지정"
      ]
    },
    {
      "cell_type": "code",
      "execution_count": 18,
      "metadata": {},
      "outputs": [],
      "source": [
        "args = TrainingArguments(\n",
        "    # output_dir: directory where the model checkpoints will be saved.\n",
        "    output_dir=model_output_dir,\n",
        "    # evaluation_strategy (default \"no\"):\n",
        "    # Possible values are:\n",
        "    # \"no\": No evaluation is done during training.\n",
        "    # \"steps\": Evaluation is done (and logged) every eval_steps.\n",
        "    # \"epoch\": Evaluation is done at the end of each epoch.\n",
        "    eval_strategy=\"steps\",\n",
        "    # eval_steps: Number of update steps between two evaluations if\n",
        "    # evaluation_strategy=\"steps\". Will default to the same value as\n",
        "    # logging_steps if not set.\n",
        "    eval_steps=50,\n",
        "    # logging_strategy (default: \"steps\"): The logging strategy to adopt during\n",
        "    # training (used to log training loss for example). Possible values are:\n",
        "    # \"no\": No logging is done during training.\n",
        "    # \"epoch\": Logging is done at the end of each epoch.\n",
        "    # \"steps\": Logging is done every logging_steps.\n",
        "    logging_strategy=\"steps\",\n",
        "    # logging_steps (default 500): Number of update steps between two logs if\n",
        "    # logging_strategy=\"steps\".\n",
        "    logging_steps=500,\n",
        "    # save_strategy (default \"steps\"):\n",
        "    # The checkpoint save strategy to adopt during training. Possible values are:\n",
        "    # \"no\": No save is done during training.\n",
        "    # \"epoch\": Save is done at the end of each epoch.\n",
        "    # \"steps\": Save is done every save_steps (default 500).\n",
        "    save_strategy=\"steps\",\n",
        "    # save_steps (default: 500): Number of updates steps before two checkpoint\n",
        "    # saves if save_strategy=\"steps\".\n",
        "    save_steps=2000,\n",
        "    # learning_rate (default 5e-5): The initial learning rate for AdamW optimizer.\n",
        "    # Adam algorithm with weight decay fix as introduced in the paper\n",
        "    # Decoupled Weight Decay Regularization.\n",
        "    learning_rate=0.001,\n",
        "    # per_device_train_batch_size: The batch size per GPU/TPU core/CPU for training.\n",
        "\n",
        "    # 32 일때 전용 GPU 메모리 10GB 밖에 못쓰고 있음!!!\n",
        "    per_device_train_batch_size=64,\n",
        "    # per_device_eval_batch_size: The batch size per GPU/TPU core/CPU for evaluation.\n",
        "    per_device_eval_batch_size=64,\n",
        "    # num_train_epochs (default 3.0): Total number of training epochs to perform\n",
        "    # (if not an integer, will perform the decimal part percents of the last epoch\n",
        "    # before stopping training).\n",
        "    num_train_epochs=3,\n",
        "    # load_best_model_at_end (default False): Whether or not to load the best model\n",
        "    # found during training at the end of training.\n",
        "    load_best_model_at_end=True,\n",
        "    # metric_for_best_model:\n",
        "    # Use in conjunction with load_best_model_at_end to specify the metric to use\n",
        "    # to compare two different models. Must be the name of a metric returned by\n",
        "    # the evaluation with or without the prefix \"eval_\".\n",
        "    metric_for_best_model=\"accuracy\",\n",
        "    # report_to:\n",
        "    # The list of integrations to report the results and logs to. Supported\n",
        "    # platforms are \"azure_ml\", \"comet_ml\", \"mlflow\", \"tensorboard\" and \"wandb\".\n",
        "    # Use \"all\" to report to all integrations installed, \"none\" for no integrations.\n",
        "    report_to=\"tensorboard\"\n",
        ")"
      ]
    },
    {
      "cell_type": "markdown",
      "metadata": {},
      "source": [
        "## 모델 생성 및 train"
      ]
    },
    {
      "cell_type": "code",
      "execution_count": 19,
      "metadata": {},
      "outputs": [
        {
          "name": "stderr",
          "output_type": "stream",
          "text": [
            "Some weights of RobertaForSequenceClassification were not initialized from the model checkpoint at klue/roberta-large and are newly initialized: ['classifier.dense.bias', 'classifier.dense.weight', 'classifier.out_proj.bias', 'classifier.out_proj.weight']\n",
            "You should probably TRAIN this model on a down-stream task to be able to use it for predictions and inference.\n"
          ]
        }
      ],
      "source": [
        "import numpy as np\n",
        "\n",
        "def model_init():\n",
        "    return AutoModelForSequenceClassification.from_pretrained(model_checkpoint, num_labels = 8)\n",
        "\n",
        "def compute_metrics(eval_pred):\n",
        "\n",
        "    predictions, labels = eval_pred\n",
        "\n",
        "    predictions = np.argmax(predictions, axis=1)\n",
        "\n",
        "    results = metric.compute(predictions=predictions, references=labels)\n",
        "\n",
        "    return results\n",
        "\n",
        "trainer = Trainer(\n",
        "    model_init = model_init,\n",
        "    args=args,\n",
        "    train_dataset=splitted_datasets_encoded[\"train\"],\n",
        "    eval_dataset=splitted_datasets_encoded[\"test\"].shuffle(42).select(range(150)),\n",
        "    tokenizer=tokenizer,\n",
        "    compute_metrics=compute_metrics\n",
        ")  "
      ]
    },
    {
      "cell_type": "code",
      "execution_count": 20,
      "metadata": {},
      "outputs": [
        {
          "name": "stderr",
          "output_type": "stream",
          "text": [
            "Some weights of RobertaForSequenceClassification were not initialized from the model checkpoint at klue/roberta-large and are newly initialized: ['classifier.dense.bias', 'classifier.dense.weight', 'classifier.out_proj.bias', 'classifier.out_proj.weight']\n",
            "You should probably TRAIN this model on a down-stream task to be able to use it for predictions and inference.\n",
            "                                                 \n",
            "  1%|          | 52/6318 [00:05<12:48,  8.15it/s]"
          ]
        },
        {
          "name": "stdout",
          "output_type": "stream",
          "text": [
            "{'eval_loss': 2.1396846771240234, 'eval_accuracy': 0.14666666666666667, 'eval_runtime': 0.1002, 'eval_samples_per_second': 1496.651, 'eval_steps_per_second': 29.933, 'epoch': 0.02}\n"
          ]
        },
        {
          "name": "stderr",
          "output_type": "stream",
          "text": [
            "                                                  \n",
            "  2%|▏         | 102/6318 [00:10<12:53,  8.04it/s]"
          ]
        },
        {
          "name": "stdout",
          "output_type": "stream",
          "text": [
            "{'eval_loss': 2.1986098289489746, 'eval_accuracy': 0.14, 'eval_runtime': 0.1056, 'eval_samples_per_second': 1420.517, 'eval_steps_per_second': 28.41, 'epoch': 0.05}\n"
          ]
        },
        {
          "name": "stderr",
          "output_type": "stream",
          "text": [
            "                                                  \n",
            "  2%|▏         | 151/6318 [00:16<13:42,  7.49it/s]"
          ]
        },
        {
          "name": "stdout",
          "output_type": "stream",
          "text": [
            "{'eval_loss': 2.1312553882598877, 'eval_accuracy': 0.12, 'eval_runtime': 0.0996, 'eval_samples_per_second': 1505.526, 'eval_steps_per_second': 30.111, 'epoch': 0.07}\n"
          ]
        },
        {
          "name": "stderr",
          "output_type": "stream",
          "text": [
            "                                                  \n",
            "  3%|▎         | 201/6318 [00:21<12:58,  7.86it/s]"
          ]
        },
        {
          "name": "stdout",
          "output_type": "stream",
          "text": [
            "{'eval_loss': 2.1952788829803467, 'eval_accuracy': 0.1, 'eval_runtime': 0.0996, 'eval_samples_per_second': 1505.428, 'eval_steps_per_second': 30.109, 'epoch': 0.09}\n"
          ]
        },
        {
          "name": "stderr",
          "output_type": "stream",
          "text": [
            "                                                  \n",
            "  4%|▍         | 252/6318 [00:27<12:38,  7.99it/s]"
          ]
        },
        {
          "name": "stdout",
          "output_type": "stream",
          "text": [
            "{'eval_loss': 2.195915460586548, 'eval_accuracy': 0.10666666666666667, 'eval_runtime': 0.0883, 'eval_samples_per_second': 1699.199, 'eval_steps_per_second': 33.984, 'epoch': 0.12}\n"
          ]
        },
        {
          "name": "stderr",
          "output_type": "stream",
          "text": [
            "                                                  \n",
            "  5%|▍         | 301/6318 [00:33<12:02,  8.33it/s]"
          ]
        },
        {
          "name": "stdout",
          "output_type": "stream",
          "text": [
            "{'eval_loss': 2.1275274753570557, 'eval_accuracy': 0.1, 'eval_runtime': 0.0984, 'eval_samples_per_second': 1524.747, 'eval_steps_per_second': 30.495, 'epoch': 0.14}\n"
          ]
        },
        {
          "name": "stderr",
          "output_type": "stream",
          "text": [
            "                                                  \n",
            "  6%|▌         | 351/6318 [00:38<12:37,  7.88it/s]"
          ]
        },
        {
          "name": "stdout",
          "output_type": "stream",
          "text": [
            "{'eval_loss': 2.1950409412384033, 'eval_accuracy': 0.1, 'eval_runtime': 0.0833, 'eval_samples_per_second': 1800.604, 'eval_steps_per_second': 36.012, 'epoch': 0.17}\n"
          ]
        },
        {
          "name": "stderr",
          "output_type": "stream",
          "text": [
            "                                                  \n",
            "  6%|▋         | 401/6318 [00:43<11:36,  8.50it/s]"
          ]
        },
        {
          "name": "stdout",
          "output_type": "stream",
          "text": [
            "{'eval_loss': 2.1290271282196045, 'eval_accuracy': 0.12, 'eval_runtime': 0.1023, 'eval_samples_per_second': 1465.891, 'eval_steps_per_second': 29.318, 'epoch': 0.19}\n"
          ]
        },
        {
          "name": "stderr",
          "output_type": "stream",
          "text": [
            "                                                  \n",
            "  7%|▋         | 451/6318 [00:49<13:01,  7.51it/s]"
          ]
        },
        {
          "name": "stdout",
          "output_type": "stream",
          "text": [
            "{'eval_loss': 2.0927889347076416, 'eval_accuracy': 0.15333333333333332, 'eval_runtime': 0.0996, 'eval_samples_per_second': 1506.658, 'eval_steps_per_second': 30.133, 'epoch': 0.21}\n"
          ]
        },
        {
          "name": "stderr",
          "output_type": "stream",
          "text": [
            "  8%|▊         | 500/6318 [00:54<10:23,  9.33it/s]"
          ]
        },
        {
          "name": "stdout",
          "output_type": "stream",
          "text": [
            "{'loss': 2.1957, 'grad_norm': 4.460990905761719, 'learning_rate': 0.0009208610319721431, 'epoch': 0.24}\n"
          ]
        },
        {
          "name": "stderr",
          "output_type": "stream",
          "text": [
            "                                                  \n",
            "  8%|▊         | 501/6318 [00:54<12:07,  7.99it/s]"
          ]
        },
        {
          "name": "stdout",
          "output_type": "stream",
          "text": [
            "{'eval_loss': 2.118945360183716, 'eval_accuracy': 0.15333333333333332, 'eval_runtime': 0.0607, 'eval_samples_per_second': 2472.804, 'eval_steps_per_second': 49.456, 'epoch': 0.24}\n"
          ]
        },
        {
          "name": "stderr",
          "output_type": "stream",
          "text": [
            "                                                  \n",
            "  9%|▊         | 551/6318 [01:00<12:54,  7.45it/s]"
          ]
        },
        {
          "name": "stdout",
          "output_type": "stream",
          "text": [
            "{'eval_loss': 2.1889383792877197, 'eval_accuracy': 0.12666666666666668, 'eval_runtime': 0.0993, 'eval_samples_per_second': 1510.177, 'eval_steps_per_second': 30.204, 'epoch': 0.26}\n"
          ]
        },
        {
          "name": "stderr",
          "output_type": "stream",
          "text": [
            "                                                  \n",
            " 10%|▉         | 602/6318 [01:06<11:03,  8.61it/s]"
          ]
        },
        {
          "name": "stdout",
          "output_type": "stream",
          "text": [
            "{'eval_loss': 2.1114766597747803, 'eval_accuracy': 0.12666666666666668, 'eval_runtime': 0.1026, 'eval_samples_per_second': 1461.393, 'eval_steps_per_second': 29.228, 'epoch': 0.28}\n"
          ]
        },
        {
          "name": "stderr",
          "output_type": "stream",
          "text": [
            "                                                  \n",
            " 10%|█         | 652/6318 [01:11<10:54,  8.66it/s]"
          ]
        },
        {
          "name": "stdout",
          "output_type": "stream",
          "text": [
            "{'eval_loss': 2.1377344131469727, 'eval_accuracy': 0.12, 'eval_runtime': 0.0844, 'eval_samples_per_second': 1777.102, 'eval_steps_per_second': 35.542, 'epoch': 0.31}\n"
          ]
        },
        {
          "name": "stderr",
          "output_type": "stream",
          "text": [
            "                                                  \n",
            " 11%|█         | 702/6318 [01:16<11:03,  8.46it/s]"
          ]
        },
        {
          "name": "stdout",
          "output_type": "stream",
          "text": [
            "{'eval_loss': 2.1361868381500244, 'eval_accuracy': 0.10666666666666667, 'eval_runtime': 0.0966, 'eval_samples_per_second': 1552.02, 'eval_steps_per_second': 31.04, 'epoch': 0.33}\n"
          ]
        },
        {
          "name": "stderr",
          "output_type": "stream",
          "text": [
            "                                                  \n",
            " 12%|█▏        | 752/6318 [01:22<11:17,  8.22it/s]"
          ]
        },
        {
          "name": "stdout",
          "output_type": "stream",
          "text": [
            "{'eval_loss': 2.083926200866699, 'eval_accuracy': 0.10666666666666667, 'eval_runtime': 0.1094, 'eval_samples_per_second': 1371.479, 'eval_steps_per_second': 27.43, 'epoch': 0.36}\n"
          ]
        },
        {
          "name": "stderr",
          "output_type": "stream",
          "text": [
            "                                                  \n",
            " 13%|█▎        | 802/6318 [01:27<11:27,  8.02it/s]"
          ]
        },
        {
          "name": "stdout",
          "output_type": "stream",
          "text": [
            "{'eval_loss': 2.1487112045288086, 'eval_accuracy': 0.10666666666666667, 'eval_runtime': 0.0937, 'eval_samples_per_second': 1600.236, 'eval_steps_per_second': 32.005, 'epoch': 0.38}\n"
          ]
        },
        {
          "name": "stderr",
          "output_type": "stream",
          "text": [
            "                                                  \n",
            " 13%|█▎        | 851/6318 [01:33<11:30,  7.91it/s]"
          ]
        },
        {
          "name": "stdout",
          "output_type": "stream",
          "text": [
            "{'eval_loss': 2.202425956726074, 'eval_accuracy': 0.1, 'eval_runtime': 0.103, 'eval_samples_per_second': 1456.737, 'eval_steps_per_second': 29.135, 'epoch': 0.4}\n"
          ]
        },
        {
          "name": "stderr",
          "output_type": "stream",
          "text": [
            "                                                  \n",
            " 14%|█▍        | 901/6318 [01:39<12:03,  7.49it/s]"
          ]
        },
        {
          "name": "stdout",
          "output_type": "stream",
          "text": [
            "{'eval_loss': 2.212153434753418, 'eval_accuracy': 0.10666666666666667, 'eval_runtime': 0.0987, 'eval_samples_per_second': 1519.242, 'eval_steps_per_second': 30.385, 'epoch': 0.43}\n"
          ]
        },
        {
          "name": "stderr",
          "output_type": "stream",
          "text": [
            "                                                  \n",
            " 15%|█▌        | 952/6318 [01:44<10:33,  8.47it/s]"
          ]
        },
        {
          "name": "stdout",
          "output_type": "stream",
          "text": [
            "{'eval_loss': 2.1022982597351074, 'eval_accuracy': 0.1, 'eval_runtime': 0.0974, 'eval_samples_per_second': 1540.012, 'eval_steps_per_second': 30.8, 'epoch': 0.45}\n"
          ]
        },
        {
          "name": "stderr",
          "output_type": "stream",
          "text": [
            " 16%|█▌        | 1000/6318 [01:49<10:14,  8.65it/s]"
          ]
        },
        {
          "name": "stdout",
          "output_type": "stream",
          "text": [
            "{'loss': 2.1416, 'grad_norm': 2.8012583255767822, 'learning_rate': 0.0008417220639442862, 'epoch': 0.47}\n"
          ]
        },
        {
          "name": "stderr",
          "output_type": "stream",
          "text": [
            "                                                   \n",
            " 16%|█▌        | 1001/6318 [01:50<11:09,  7.94it/s]"
          ]
        },
        {
          "name": "stdout",
          "output_type": "stream",
          "text": [
            "{'eval_loss': 2.133620500564575, 'eval_accuracy': 0.12666666666666668, 'eval_runtime': 0.0646, 'eval_samples_per_second': 2321.005, 'eval_steps_per_second': 46.42, 'epoch': 0.47}\n"
          ]
        },
        {
          "name": "stderr",
          "output_type": "stream",
          "text": [
            "                                                   \n",
            " 17%|█▋        | 1051/6318 [01:55<10:46,  8.15it/s]"
          ]
        },
        {
          "name": "stdout",
          "output_type": "stream",
          "text": [
            "{'eval_loss': 2.1140434741973877, 'eval_accuracy': 0.15333333333333332, 'eval_runtime': 0.0941, 'eval_samples_per_second': 1593.572, 'eval_steps_per_second': 31.871, 'epoch': 0.5}\n"
          ]
        },
        {
          "name": "stderr",
          "output_type": "stream",
          "text": [
            "                                                   \n",
            " 17%|█▋        | 1102/6318 [02:00<09:25,  9.22it/s]"
          ]
        },
        {
          "name": "stdout",
          "output_type": "stream",
          "text": [
            "{'eval_loss': 2.1335697174072266, 'eval_accuracy': 0.15333333333333332, 'eval_runtime': 0.0876, 'eval_samples_per_second': 1713.248, 'eval_steps_per_second': 34.265, 'epoch': 0.52}\n"
          ]
        },
        {
          "name": "stderr",
          "output_type": "stream",
          "text": [
            "                                                   \n",
            " 18%|█▊        | 1152/6318 [02:06<10:02,  8.58it/s]"
          ]
        },
        {
          "name": "stdout",
          "output_type": "stream",
          "text": [
            "{'eval_loss': 2.090928077697754, 'eval_accuracy': 0.14666666666666667, 'eval_runtime': 0.1095, 'eval_samples_per_second': 1369.3, 'eval_steps_per_second': 27.386, 'epoch': 0.55}\n"
          ]
        },
        {
          "name": "stderr",
          "output_type": "stream",
          "text": [
            "                                                   \n",
            " 19%|█▉        | 1201/6318 [02:11<11:13,  7.60it/s]"
          ]
        },
        {
          "name": "stdout",
          "output_type": "stream",
          "text": [
            "{'eval_loss': 2.089012861251831, 'eval_accuracy': 0.12666666666666668, 'eval_runtime': 0.0979, 'eval_samples_per_second': 1531.77, 'eval_steps_per_second': 30.635, 'epoch': 0.57}\n"
          ]
        },
        {
          "name": "stderr",
          "output_type": "stream",
          "text": [
            "                                                   \n",
            " 20%|█▉        | 1251/6318 [02:17<11:09,  7.57it/s]"
          ]
        },
        {
          "name": "stdout",
          "output_type": "stream",
          "text": [
            "{'eval_loss': 2.100189208984375, 'eval_accuracy': 0.14666666666666667, 'eval_runtime': 0.0977, 'eval_samples_per_second': 1535.535, 'eval_steps_per_second': 30.711, 'epoch': 0.59}\n"
          ]
        },
        {
          "name": "stderr",
          "output_type": "stream",
          "text": [
            "                                                   \n",
            " 21%|██        | 1302/6318 [02:22<10:02,  8.33it/s]"
          ]
        },
        {
          "name": "stdout",
          "output_type": "stream",
          "text": [
            "{'eval_loss': 2.1245672702789307, 'eval_accuracy': 0.14666666666666667, 'eval_runtime': 0.0941, 'eval_samples_per_second': 1593.568, 'eval_steps_per_second': 31.871, 'epoch': 0.62}\n"
          ]
        },
        {
          "name": "stderr",
          "output_type": "stream",
          "text": [
            "                                                   \n",
            " 21%|██▏       | 1351/6318 [02:28<10:51,  7.63it/s]"
          ]
        },
        {
          "name": "stdout",
          "output_type": "stream",
          "text": [
            "{'eval_loss': 2.1387200355529785, 'eval_accuracy': 0.1, 'eval_runtime': 0.0999, 'eval_samples_per_second': 1501.157, 'eval_steps_per_second': 30.023, 'epoch': 0.64}\n"
          ]
        },
        {
          "name": "stderr",
          "output_type": "stream",
          "text": [
            "                                                   \n",
            " 22%|██▏       | 1401/6318 [02:33<10:07,  8.10it/s]"
          ]
        },
        {
          "name": "stdout",
          "output_type": "stream",
          "text": [
            "{'eval_loss': 2.1179497241973877, 'eval_accuracy': 0.14, 'eval_runtime': 0.0941, 'eval_samples_per_second': 1593.593, 'eval_steps_per_second': 31.872, 'epoch': 0.66}\n"
          ]
        },
        {
          "name": "stderr",
          "output_type": "stream",
          "text": [
            "                                                   \n",
            " 23%|██▎       | 1452/6318 [02:39<09:44,  8.33it/s]"
          ]
        },
        {
          "name": "stdout",
          "output_type": "stream",
          "text": [
            "{'eval_loss': 2.135748863220215, 'eval_accuracy': 0.10666666666666667, 'eval_runtime': 0.0942, 'eval_samples_per_second': 1592.754, 'eval_steps_per_second': 31.855, 'epoch': 0.69}\n"
          ]
        },
        {
          "name": "stderr",
          "output_type": "stream",
          "text": [
            " 24%|██▎       | 1500/6318 [02:44<08:14,  9.75it/s]"
          ]
        },
        {
          "name": "stdout",
          "output_type": "stream",
          "text": [
            "{'loss': 2.1282, 'grad_norm': 2.364353895187378, 'learning_rate': 0.0007625830959164293, 'epoch': 0.71}\n"
          ]
        },
        {
          "name": "stderr",
          "output_type": "stream",
          "text": [
            "                                                   \n",
            " 24%|██▍       | 1501/6318 [02:44<09:49,  8.17it/s]"
          ]
        },
        {
          "name": "stdout",
          "output_type": "stream",
          "text": [
            "{'eval_loss': 2.1018362045288086, 'eval_accuracy': 0.10666666666666667, 'eval_runtime': 0.063, 'eval_samples_per_second': 2379.828, 'eval_steps_per_second': 47.597, 'epoch': 0.71}\n"
          ]
        },
        {
          "name": "stderr",
          "output_type": "stream",
          "text": [
            "                                                   \n",
            " 25%|██▍       | 1551/6318 [02:50<09:29,  8.37it/s]"
          ]
        },
        {
          "name": "stdout",
          "output_type": "stream",
          "text": [
            "{'eval_loss': 2.1451501846313477, 'eval_accuracy': 0.12, 'eval_runtime': 0.094, 'eval_samples_per_second': 1595.852, 'eval_steps_per_second': 31.917, 'epoch': 0.74}\n"
          ]
        },
        {
          "name": "stderr",
          "output_type": "stream",
          "text": [
            "                                                   \n",
            " 25%|██▌       | 1602/6318 [02:55<08:40,  9.05it/s]"
          ]
        },
        {
          "name": "stdout",
          "output_type": "stream",
          "text": [
            "{'eval_loss': 2.1514880657196045, 'eval_accuracy': 0.10666666666666667, 'eval_runtime': 0.1129, 'eval_samples_per_second': 1328.073, 'eval_steps_per_second': 26.561, 'epoch': 0.76}\n"
          ]
        },
        {
          "name": "stderr",
          "output_type": "stream",
          "text": [
            "                                                   \n",
            " 26%|██▌       | 1652/6318 [03:00<08:51,  8.77it/s]"
          ]
        },
        {
          "name": "stdout",
          "output_type": "stream",
          "text": [
            "{'eval_loss': 2.088217258453369, 'eval_accuracy': 0.14666666666666667, 'eval_runtime': 0.1044, 'eval_samples_per_second': 1437.012, 'eval_steps_per_second': 28.74, 'epoch': 0.78}\n"
          ]
        },
        {
          "name": "stderr",
          "output_type": "stream",
          "text": [
            "                                                   \n",
            " 27%|██▋       | 1702/6318 [03:05<08:32,  9.00it/s]"
          ]
        },
        {
          "name": "stdout",
          "output_type": "stream",
          "text": [
            "{'eval_loss': 2.0918710231781006, 'eval_accuracy': 0.12666666666666668, 'eval_runtime': 0.1001, 'eval_samples_per_second': 1498.016, 'eval_steps_per_second': 29.96, 'epoch': 0.81}\n"
          ]
        },
        {
          "name": "stderr",
          "output_type": "stream",
          "text": [
            "                                                   \n",
            " 28%|██▊       | 1752/6318 [03:11<08:25,  9.04it/s]"
          ]
        },
        {
          "name": "stdout",
          "output_type": "stream",
          "text": [
            "{'eval_loss': 2.1999430656433105, 'eval_accuracy': 0.1, 'eval_runtime': 0.1097, 'eval_samples_per_second': 1367.372, 'eval_steps_per_second': 27.347, 'epoch': 0.83}\n"
          ]
        },
        {
          "name": "stderr",
          "output_type": "stream",
          "text": [
            "                                                   \n",
            " 29%|██▊       | 1801/6318 [03:16<08:57,  8.41it/s]"
          ]
        },
        {
          "name": "stdout",
          "output_type": "stream",
          "text": [
            "{'eval_loss': 2.099990129470825, 'eval_accuracy': 0.10666666666666667, 'eval_runtime': 0.094, 'eval_samples_per_second': 1595.832, 'eval_steps_per_second': 31.917, 'epoch': 0.85}\n"
          ]
        },
        {
          "name": "stderr",
          "output_type": "stream",
          "text": [
            "                                                   \n",
            " 29%|██▉       | 1851/6318 [03:21<09:25,  7.90it/s]"
          ]
        },
        {
          "name": "stdout",
          "output_type": "stream",
          "text": [
            "{'eval_loss': 2.12788987159729, 'eval_accuracy': 0.1, 'eval_runtime': 0.094, 'eval_samples_per_second': 1595.872, 'eval_steps_per_second': 31.917, 'epoch': 0.88}\n"
          ]
        },
        {
          "name": "stderr",
          "output_type": "stream",
          "text": [
            "                                                   \n",
            " 30%|███       | 1902/6318 [03:27<08:28,  8.68it/s]"
          ]
        },
        {
          "name": "stdout",
          "output_type": "stream",
          "text": [
            "{'eval_loss': 2.090859889984131, 'eval_accuracy': 0.1, 'eval_runtime': 0.0995, 'eval_samples_per_second': 1507.484, 'eval_steps_per_second': 30.15, 'epoch': 0.9}\n"
          ]
        },
        {
          "name": "stderr",
          "output_type": "stream",
          "text": [
            "                                                   \n",
            " 31%|███       | 1951/6318 [03:32<09:07,  7.98it/s]"
          ]
        },
        {
          "name": "stdout",
          "output_type": "stream",
          "text": [
            "{'eval_loss': 2.121614694595337, 'eval_accuracy': 0.12, 'eval_runtime': 0.0784, 'eval_samples_per_second': 1913.419, 'eval_steps_per_second': 38.268, 'epoch': 0.93}\n"
          ]
        },
        {
          "name": "stderr",
          "output_type": "stream",
          "text": [
            " 32%|███▏      | 2000/6318 [03:37<07:51,  9.16it/s]"
          ]
        },
        {
          "name": "stdout",
          "output_type": "stream",
          "text": [
            "{'loss': 2.1181, 'grad_norm': 2.6518914699554443, 'learning_rate': 0.0006834441278885723, 'epoch': 0.95}\n"
          ]
        },
        {
          "name": "stderr",
          "output_type": "stream",
          "text": [
            "                                                   \n",
            " 32%|███▏      | 2000/6318 [03:38<07:51,  9.16it/s]"
          ]
        },
        {
          "name": "stdout",
          "output_type": "stream",
          "text": [
            "{'eval_loss': 2.091383457183838, 'eval_accuracy': 0.15333333333333332, 'eval_runtime': 0.0807, 'eval_samples_per_second': 1858.436, 'eval_steps_per_second': 37.169, 'epoch': 0.95}\n"
          ]
        },
        {
          "name": "stderr",
          "output_type": "stream",
          "text": [
            "                                                   \n",
            " 32%|███▏      | 2051/6318 [03:46<09:16,  7.67it/s]"
          ]
        },
        {
          "name": "stdout",
          "output_type": "stream",
          "text": [
            "{'eval_loss': 2.0736029148101807, 'eval_accuracy': 0.14, 'eval_runtime': 0.0964, 'eval_samples_per_second': 1555.655, 'eval_steps_per_second': 31.113, 'epoch': 0.97}\n"
          ]
        },
        {
          "name": "stderr",
          "output_type": "stream",
          "text": [
            "                                                   \n",
            " 33%|███▎      | 2101/6318 [03:52<08:04,  8.70it/s]"
          ]
        },
        {
          "name": "stdout",
          "output_type": "stream",
          "text": [
            "{'eval_loss': 2.103323459625244, 'eval_accuracy': 0.12, 'eval_runtime': 0.0941, 'eval_samples_per_second': 1593.782, 'eval_steps_per_second': 31.876, 'epoch': 1.0}\n"
          ]
        },
        {
          "name": "stderr",
          "output_type": "stream",
          "text": [
            "                                                   \n",
            " 34%|███▍      | 2152/6318 [03:57<07:55,  8.76it/s]"
          ]
        },
        {
          "name": "stdout",
          "output_type": "stream",
          "text": [
            "{'eval_loss': 2.1024229526519775, 'eval_accuracy': 0.15333333333333332, 'eval_runtime': 0.0941, 'eval_samples_per_second': 1593.629, 'eval_steps_per_second': 31.873, 'epoch': 1.02}\n"
          ]
        },
        {
          "name": "stderr",
          "output_type": "stream",
          "text": [
            "                                                   \n",
            " 35%|███▍      | 2201/6318 [04:02<09:13,  7.44it/s]"
          ]
        },
        {
          "name": "stdout",
          "output_type": "stream",
          "text": [
            "{'eval_loss': 2.1279444694519043, 'eval_accuracy': 0.14666666666666667, 'eval_runtime': 0.0956, 'eval_samples_per_second': 1569.196, 'eval_steps_per_second': 31.384, 'epoch': 1.04}\n"
          ]
        },
        {
          "name": "stderr",
          "output_type": "stream",
          "text": [
            "                                                   \n",
            " 36%|███▌      | 2252/6318 [04:08<08:17,  8.18it/s]"
          ]
        },
        {
          "name": "stdout",
          "output_type": "stream",
          "text": [
            "{'eval_loss': 2.107466220855713, 'eval_accuracy': 0.10666666666666667, 'eval_runtime': 0.094, 'eval_samples_per_second': 1595.852, 'eval_steps_per_second': 31.917, 'epoch': 1.07}\n"
          ]
        },
        {
          "name": "stderr",
          "output_type": "stream",
          "text": [
            "                                                   \n",
            " 36%|███▋      | 2302/6318 [04:13<07:51,  8.51it/s]"
          ]
        },
        {
          "name": "stdout",
          "output_type": "stream",
          "text": [
            "{'eval_loss': 2.081134080886841, 'eval_accuracy': 0.14, 'eval_runtime': 0.0784, 'eval_samples_per_second': 1913.437, 'eval_steps_per_second': 38.269, 'epoch': 1.09}\n"
          ]
        },
        {
          "name": "stderr",
          "output_type": "stream",
          "text": [
            "                                                   \n",
            " 37%|███▋      | 2351/6318 [04:19<07:25,  8.91it/s]"
          ]
        },
        {
          "name": "stdout",
          "output_type": "stream",
          "text": [
            "{'eval_loss': 2.0849573612213135, 'eval_accuracy': 0.12, 'eval_runtime': 0.0941, 'eval_samples_per_second': 1594.449, 'eval_steps_per_second': 31.889, 'epoch': 1.12}\n"
          ]
        },
        {
          "name": "stderr",
          "output_type": "stream",
          "text": [
            "                                                   \n",
            " 38%|███▊      | 2401/6318 [04:24<07:43,  8.45it/s]"
          ]
        },
        {
          "name": "stdout",
          "output_type": "stream",
          "text": [
            "{'eval_loss': 2.1000559329986572, 'eval_accuracy': 0.10666666666666667, 'eval_runtime': 0.094, 'eval_samples_per_second': 1595.84, 'eval_steps_per_second': 31.917, 'epoch': 1.14}\n"
          ]
        },
        {
          "name": "stderr",
          "output_type": "stream",
          "text": [
            "                                                   \n",
            " 39%|███▉      | 2451/6318 [04:30<12:19,  5.23it/s]"
          ]
        },
        {
          "name": "stdout",
          "output_type": "stream",
          "text": [
            "{'eval_loss': 2.1353204250335693, 'eval_accuracy': 0.10666666666666667, 'eval_runtime': 0.188, 'eval_samples_per_second': 797.932, 'eval_steps_per_second': 15.959, 'epoch': 1.16}\n"
          ]
        },
        {
          "name": "stderr",
          "output_type": "stream",
          "text": [
            " 40%|███▉      | 2500/6318 [04:36<06:24,  9.94it/s]"
          ]
        },
        {
          "name": "stdout",
          "output_type": "stream",
          "text": [
            "{'loss': 2.1053, 'grad_norm': 1.1142468452453613, 'learning_rate': 0.0006043051598607155, 'epoch': 1.19}\n"
          ]
        },
        {
          "name": "stderr",
          "output_type": "stream",
          "text": [
            "                                                   \n",
            " 40%|███▉      | 2501/6318 [04:36<07:54,  8.04it/s]"
          ]
        },
        {
          "name": "stdout",
          "output_type": "stream",
          "text": [
            "{'eval_loss': 2.1227080821990967, 'eval_accuracy': 0.10666666666666667, 'eval_runtime': 0.073, 'eval_samples_per_second': 2053.696, 'eval_steps_per_second': 41.074, 'epoch': 1.19}\n"
          ]
        },
        {
          "name": "stderr",
          "output_type": "stream",
          "text": [
            "                                                   \n",
            " 40%|████      | 2552/6318 [04:41<07:28,  8.39it/s]"
          ]
        },
        {
          "name": "stdout",
          "output_type": "stream",
          "text": [
            "{'eval_loss': 2.0940213203430176, 'eval_accuracy': 0.1, 'eval_runtime': 0.094, 'eval_samples_per_second': 1595.864, 'eval_steps_per_second': 31.917, 'epoch': 1.21}\n"
          ]
        },
        {
          "name": "stderr",
          "output_type": "stream",
          "text": [
            "                                                   \n",
            " 41%|████      | 2601/6318 [04:47<07:06,  8.72it/s]"
          ]
        },
        {
          "name": "stdout",
          "output_type": "stream",
          "text": [
            "{'eval_loss': 2.080561876296997, 'eval_accuracy': 0.14, 'eval_runtime': 0.094, 'eval_samples_per_second': 1595.868, 'eval_steps_per_second': 31.917, 'epoch': 1.23}\n"
          ]
        },
        {
          "name": "stderr",
          "output_type": "stream",
          "text": [
            "                                                   \n",
            " 42%|████▏     | 2651/6318 [04:52<07:28,  8.17it/s]"
          ]
        },
        {
          "name": "stdout",
          "output_type": "stream",
          "text": [
            "{'eval_loss': 2.0974044799804688, 'eval_accuracy': 0.1, 'eval_runtime': 0.094, 'eval_samples_per_second': 1595.84, 'eval_steps_per_second': 31.917, 'epoch': 1.26}\n"
          ]
        },
        {
          "name": "stderr",
          "output_type": "stream",
          "text": [
            "                                                   \n",
            " 43%|████▎     | 2701/6318 [04:58<07:34,  7.95it/s]"
          ]
        },
        {
          "name": "stdout",
          "output_type": "stream",
          "text": [
            "{'eval_loss': 2.0995752811431885, 'eval_accuracy': 0.10666666666666667, 'eval_runtime': 0.0931, 'eval_samples_per_second': 1611.896, 'eval_steps_per_second': 32.238, 'epoch': 1.28}\n"
          ]
        },
        {
          "name": "stderr",
          "output_type": "stream",
          "text": [
            " 43%|████▎     | 2728/6318 [05:01<06:24,  9.33it/s]"
          ]
        }
      ],
      "source": [
        "trainer.train()"
      ]
    },
    {
      "cell_type": "markdown",
      "metadata": {},
      "source": [
        "# Test 정확도 확인"
      ]
    },
    {
      "cell_type": "code",
      "execution_count": null,
      "metadata": {},
      "outputs": [
        {
          "name": "stderr",
          "output_type": "stream",
          "text": [
            "Map: 100%|██████████| 57749/57749 [00:01<00:00, 54573.32 examples/s]\n"
          ]
        },
        {
          "data": {
            "text/plain": [
              "{'accuracy': 0.12580304420855773}"
            ]
          },
          "execution_count": 29,
          "metadata": {},
          "output_type": "execute_result"
        }
      ],
      "source": [
        "dataset_test_encoded = splitted_datasets[\"test\"].map(preprocess_function_batch, batched = True)\n",
        "\n",
        "test_predictions = trainer.predict(dataset_test_encoded)\n",
        "\n",
        "test_predictions_argmax = np.argmax(test_predictions[0], axis=1)\n",
        "\n",
        "test_references = np.array(splitted_datasets[\"test\"][\"label\"])\n",
        "\n",
        "metric.compute(predictions=test_predictions_argmax, references=test_references)"
      ]
    },
    {
      "cell_type": "code",
      "execution_count": null,
      "metadata": {},
      "outputs": [
        {
          "data": {
            "text/html": [
              "<div>\n",
              "<style scoped>\n",
              "    .dataframe tbody tr th:only-of-type {\n",
              "        vertical-align: middle;\n",
              "    }\n",
              "\n",
              "    .dataframe tbody tr th {\n",
              "        vertical-align: top;\n",
              "    }\n",
              "\n",
              "    .dataframe thead th {\n",
              "        text-align: right;\n",
              "    }\n",
              "</style>\n",
              "<table border=\"1\" class=\"dataframe\">\n",
              "  <thead>\n",
              "    <tr style=\"text-align: right;\">\n",
              "      <th></th>\n",
              "      <th>text</th>\n",
              "      <th>actual_label</th>\n",
              "      <th>predicted_label</th>\n",
              "      <th>correct</th>\n",
              "    </tr>\n",
              "  </thead>\n",
              "  <tbody>\n",
              "    <tr>\n",
              "      <th>0</th>\n",
              "      <td>아니 유치원 다닐 때가 좋아</td>\n",
              "      <td>7</td>\n",
              "      <td>7</td>\n",
              "      <td>True</td>\n",
              "    </tr>\n",
              "    <tr>\n",
              "      <th>1</th>\n",
              "      <td>(NO:집 못 찾아갈 것) 같아 (NO:)</td>\n",
              "      <td>6</td>\n",
              "      <td>7</td>\n",
              "      <td>False</td>\n",
              "    </tr>\n",
              "    <tr>\n",
              "      <th>2</th>\n",
              "      <td>비가 주룩주룩 내려</td>\n",
              "      <td>4</td>\n",
              "      <td>7</td>\n",
              "      <td>False</td>\n",
              "    </tr>\n",
              "    <tr>\n",
              "      <th>3</th>\n",
              "      <td>빨리 출발해요</td>\n",
              "      <td>0</td>\n",
              "      <td>7</td>\n",
              "      <td>False</td>\n",
              "    </tr>\n",
              "    <tr>\n",
              "      <th>4</th>\n",
              "      <td>다 풀었어요</td>\n",
              "      <td>2</td>\n",
              "      <td>7</td>\n",
              "      <td>False</td>\n",
              "    </tr>\n",
              "    <tr>\n",
              "      <th>...</th>\n",
              "      <td>...</td>\n",
              "      <td>...</td>\n",
              "      <td>...</td>\n",
              "      <td>...</td>\n",
              "    </tr>\n",
              "    <tr>\n",
              "      <th>57744</th>\n",
              "      <td>별처럼 생긴 건 뭐야</td>\n",
              "      <td>0</td>\n",
              "      <td>7</td>\n",
              "      <td>False</td>\n",
              "    </tr>\n",
              "    <tr>\n",
              "      <th>57745</th>\n",
              "      <td>손톱 칠해드릴게요</td>\n",
              "      <td>5</td>\n",
              "      <td>7</td>\n",
              "      <td>False</td>\n",
              "    </tr>\n",
              "    <tr>\n",
              "      <th>57746</th>\n",
              "      <td>여기 있네</td>\n",
              "      <td>2</td>\n",
              "      <td>7</td>\n",
              "      <td>False</td>\n",
              "    </tr>\n",
              "    <tr>\n",
              "      <th>57747</th>\n",
              "      <td>토스트를 한 입 먹어요</td>\n",
              "      <td>2</td>\n",
              "      <td>7</td>\n",
              "      <td>False</td>\n",
              "    </tr>\n",
              "    <tr>\n",
              "      <th>57748</th>\n",
              "      <td>여기 구멍에 실 넣으면 돼요</td>\n",
              "      <td>7</td>\n",
              "      <td>7</td>\n",
              "      <td>True</td>\n",
              "    </tr>\n",
              "  </tbody>\n",
              "</table>\n",
              "<p>57749 rows × 4 columns</p>\n",
              "</div>"
            ],
            "text/plain": [
              "                          text  actual_label  predicted_label  correct\n",
              "0             아니 유치원 다닐 때가 좋아              7                7     True\n",
              "1      (NO:집 못 찾아갈 것) 같아 (NO:)             6                7    False\n",
              "2                  비가 주룩주룩 내려              4                7    False\n",
              "3                      빨리 출발해요             0                7    False\n",
              "4                       다 풀었어요             2                7    False\n",
              "...                        ...           ...              ...      ...\n",
              "57744             별처럼 생긴 건 뭐야              0                7    False\n",
              "57745               손톱 칠해드릴게요              5                7    False\n",
              "57746                    여기 있네             2                7    False\n",
              "57747             토스트를 한 입 먹어요             2                7    False\n",
              "57748          여기 구멍에 실 넣으면 돼요             7                7     True\n",
              "\n",
              "[57749 rows x 4 columns]"
            ]
          },
          "metadata": {},
          "output_type": "display_data"
        }
      ],
      "source": [
        "#!pip install ipython\n",
        "\n",
        "# Create a DataFrame for visualization\n",
        "test_texts = splitted_datasets[\"test\"][\"text\"]\n",
        "comparison_df = pd.DataFrame({\n",
        "    'text': test_texts,\n",
        "    'actual_label': test_references,\n",
        "    'predicted_label': test_predictions_argmax\n",
        "})\n",
        "comparison_df['correct'] = comparison_df['actual_label'] == comparison_df['predicted_label']\n",
        "\n",
        "# Display the comparison DataFrame\n",
        "import IPython.display as display\n",
        "display.display(comparison_df)"
      ]
    },
    {
      "cell_type": "code",
      "execution_count": null,
      "metadata": {},
      "outputs": [],
      "source": []
    }
  ],
  "metadata": {
    "colab": {
      "provenance": []
    },
    "kernelspec": {
      "display_name": "Python 3",
      "name": "python3"
    },
    "language_info": {
      "codemirror_mode": {
        "name": "ipython",
        "version": 3
      },
      "file_extension": ".py",
      "mimetype": "text/x-python",
      "name": "python",
      "nbconvert_exporter": "python",
      "pygments_lexer": "ipython3",
      "version": "3.10.6"
    },
    "widgets": {
      "application/vnd.jupyter.widget-state+json": {
        "05ab1a3035514d84bbe126302a98aeac": {
          "model_module": "@jupyter-widgets/base",
          "model_module_version": "1.2.0",
          "model_name": "LayoutModel",
          "state": {
            "_model_module": "@jupyter-widgets/base",
            "_model_module_version": "1.2.0",
            "_model_name": "LayoutModel",
            "_view_count": null,
            "_view_module": "@jupyter-widgets/base",
            "_view_module_version": "1.2.0",
            "_view_name": "LayoutView",
            "align_content": null,
            "align_items": null,
            "align_self": null,
            "border": null,
            "bottom": null,
            "display": null,
            "flex": null,
            "flex_flow": null,
            "grid_area": null,
            "grid_auto_columns": null,
            "grid_auto_flow": null,
            "grid_auto_rows": null,
            "grid_column": null,
            "grid_gap": null,
            "grid_row": null,
            "grid_template_areas": null,
            "grid_template_columns": null,
            "grid_template_rows": null,
            "height": null,
            "justify_content": null,
            "justify_items": null,
            "left": null,
            "margin": null,
            "max_height": null,
            "max_width": null,
            "min_height": null,
            "min_width": null,
            "object_fit": null,
            "object_position": null,
            "order": null,
            "overflow": null,
            "overflow_x": null,
            "overflow_y": null,
            "padding": null,
            "right": null,
            "top": null,
            "visibility": null,
            "width": "20px"
          }
        },
        "2be3d2bfda5b407ca328357ec35b7cb2": {
          "model_module": "@jupyter-widgets/controls",
          "model_module_version": "1.5.0",
          "model_name": "HBoxModel",
          "state": {
            "_dom_classes": [],
            "_model_module": "@jupyter-widgets/controls",
            "_model_module_version": "1.5.0",
            "_model_name": "HBoxModel",
            "_view_count": null,
            "_view_module": "@jupyter-widgets/controls",
            "_view_module_version": "1.5.0",
            "_view_name": "HBoxView",
            "box_style": "",
            "children": [
              "IPY_MODEL_82b7b27250ee467e8c5c4e24f43d4fca",
              "IPY_MODEL_7479e37ab1424c1a94f890625d72c241",
              "IPY_MODEL_6ef796c3e4404c52aa7116f245074177"
            ],
            "layout": "IPY_MODEL_489f6afcb9fb40479d6167803e66ef51"
          }
        },
        "3a2f22a45cf84e93942df5e9bca83983": {
          "model_module": "@jupyter-widgets/controls",
          "model_module_version": "1.5.0",
          "model_name": "DescriptionStyleModel",
          "state": {
            "_model_module": "@jupyter-widgets/controls",
            "_model_module_version": "1.5.0",
            "_model_name": "DescriptionStyleModel",
            "_view_count": null,
            "_view_module": "@jupyter-widgets/base",
            "_view_module_version": "1.2.0",
            "_view_name": "StyleView",
            "description_width": ""
          }
        },
        "489f6afcb9fb40479d6167803e66ef51": {
          "model_module": "@jupyter-widgets/base",
          "model_module_version": "1.2.0",
          "model_name": "LayoutModel",
          "state": {
            "_model_module": "@jupyter-widgets/base",
            "_model_module_version": "1.2.0",
            "_model_name": "LayoutModel",
            "_view_count": null,
            "_view_module": "@jupyter-widgets/base",
            "_view_module_version": "1.2.0",
            "_view_name": "LayoutView",
            "align_content": null,
            "align_items": null,
            "align_self": null,
            "border": null,
            "bottom": null,
            "display": null,
            "flex": null,
            "flex_flow": null,
            "grid_area": null,
            "grid_auto_columns": null,
            "grid_auto_flow": null,
            "grid_auto_rows": null,
            "grid_column": null,
            "grid_gap": null,
            "grid_row": null,
            "grid_template_areas": null,
            "grid_template_columns": null,
            "grid_template_rows": null,
            "height": null,
            "justify_content": null,
            "justify_items": null,
            "left": null,
            "margin": null,
            "max_height": null,
            "max_width": null,
            "min_height": null,
            "min_width": null,
            "object_fit": null,
            "object_position": null,
            "order": null,
            "overflow": null,
            "overflow_x": null,
            "overflow_y": null,
            "padding": null,
            "right": null,
            "top": null,
            "visibility": null,
            "width": null
          }
        },
        "4f93ed49dc3345bcb39d1efd4f8aa243": {
          "model_module": "@jupyter-widgets/controls",
          "model_module_version": "1.5.0",
          "model_name": "DescriptionStyleModel",
          "state": {
            "_model_module": "@jupyter-widgets/controls",
            "_model_module_version": "1.5.0",
            "_model_name": "DescriptionStyleModel",
            "_view_count": null,
            "_view_module": "@jupyter-widgets/base",
            "_view_module_version": "1.2.0",
            "_view_name": "StyleView",
            "description_width": ""
          }
        },
        "6ef796c3e4404c52aa7116f245074177": {
          "model_module": "@jupyter-widgets/controls",
          "model_module_version": "1.5.0",
          "model_name": "HTMLModel",
          "state": {
            "_dom_classes": [],
            "_model_module": "@jupyter-widgets/controls",
            "_model_module_version": "1.5.0",
            "_model_name": "HTMLModel",
            "_view_count": null,
            "_view_module": "@jupyter-widgets/controls",
            "_view_module_version": "1.5.0",
            "_view_name": "HTMLView",
            "description": "",
            "description_tooltip": null,
            "layout": "IPY_MODEL_e361e14d9636410a9cd7e9d9ed185ca7",
            "placeholder": "​",
            "style": "IPY_MODEL_3a2f22a45cf84e93942df5e9bca83983",
            "value": " 2509153/0 [00:05&lt;00:00, 415396.58 examples/s]"
          }
        },
        "7479e37ab1424c1a94f890625d72c241": {
          "model_module": "@jupyter-widgets/controls",
          "model_module_version": "1.5.0",
          "model_name": "FloatProgressModel",
          "state": {
            "_dom_classes": [],
            "_model_module": "@jupyter-widgets/controls",
            "_model_module_version": "1.5.0",
            "_model_name": "FloatProgressModel",
            "_view_count": null,
            "_view_module": "@jupyter-widgets/controls",
            "_view_module_version": "1.5.0",
            "_view_name": "ProgressView",
            "bar_style": "success",
            "description": "",
            "description_tooltip": null,
            "layout": "IPY_MODEL_05ab1a3035514d84bbe126302a98aeac",
            "max": 1,
            "min": 0,
            "orientation": "horizontal",
            "style": "IPY_MODEL_c7eb1cc40d894cba82b84ce8a41cb41d",
            "value": 1
          }
        },
        "74effbc5289d4124836c561517678596": {
          "model_module": "@jupyter-widgets/base",
          "model_module_version": "1.2.0",
          "model_name": "LayoutModel",
          "state": {
            "_model_module": "@jupyter-widgets/base",
            "_model_module_version": "1.2.0",
            "_model_name": "LayoutModel",
            "_view_count": null,
            "_view_module": "@jupyter-widgets/base",
            "_view_module_version": "1.2.0",
            "_view_name": "LayoutView",
            "align_content": null,
            "align_items": null,
            "align_self": null,
            "border": null,
            "bottom": null,
            "display": null,
            "flex": null,
            "flex_flow": null,
            "grid_area": null,
            "grid_auto_columns": null,
            "grid_auto_flow": null,
            "grid_auto_rows": null,
            "grid_column": null,
            "grid_gap": null,
            "grid_row": null,
            "grid_template_areas": null,
            "grid_template_columns": null,
            "grid_template_rows": null,
            "height": null,
            "justify_content": null,
            "justify_items": null,
            "left": null,
            "margin": null,
            "max_height": null,
            "max_width": null,
            "min_height": null,
            "min_width": null,
            "object_fit": null,
            "object_position": null,
            "order": null,
            "overflow": null,
            "overflow_x": null,
            "overflow_y": null,
            "padding": null,
            "right": null,
            "top": null,
            "visibility": null,
            "width": null
          }
        },
        "82b7b27250ee467e8c5c4e24f43d4fca": {
          "model_module": "@jupyter-widgets/controls",
          "model_module_version": "1.5.0",
          "model_name": "HTMLModel",
          "state": {
            "_dom_classes": [],
            "_model_module": "@jupyter-widgets/controls",
            "_model_module_version": "1.5.0",
            "_model_name": "HTMLModel",
            "_view_count": null,
            "_view_module": "@jupyter-widgets/controls",
            "_view_module_version": "1.5.0",
            "_view_name": "HTMLView",
            "description": "",
            "description_tooltip": null,
            "layout": "IPY_MODEL_74effbc5289d4124836c561517678596",
            "placeholder": "​",
            "style": "IPY_MODEL_4f93ed49dc3345bcb39d1efd4f8aa243",
            "value": "Generating train split: "
          }
        },
        "c7eb1cc40d894cba82b84ce8a41cb41d": {
          "model_module": "@jupyter-widgets/controls",
          "model_module_version": "1.5.0",
          "model_name": "ProgressStyleModel",
          "state": {
            "_model_module": "@jupyter-widgets/controls",
            "_model_module_version": "1.5.0",
            "_model_name": "ProgressStyleModel",
            "_view_count": null,
            "_view_module": "@jupyter-widgets/base",
            "_view_module_version": "1.2.0",
            "_view_name": "StyleView",
            "bar_color": null,
            "description_width": ""
          }
        },
        "e361e14d9636410a9cd7e9d9ed185ca7": {
          "model_module": "@jupyter-widgets/base",
          "model_module_version": "1.2.0",
          "model_name": "LayoutModel",
          "state": {
            "_model_module": "@jupyter-widgets/base",
            "_model_module_version": "1.2.0",
            "_model_name": "LayoutModel",
            "_view_count": null,
            "_view_module": "@jupyter-widgets/base",
            "_view_module_version": "1.2.0",
            "_view_name": "LayoutView",
            "align_content": null,
            "align_items": null,
            "align_self": null,
            "border": null,
            "bottom": null,
            "display": null,
            "flex": null,
            "flex_flow": null,
            "grid_area": null,
            "grid_auto_columns": null,
            "grid_auto_flow": null,
            "grid_auto_rows": null,
            "grid_column": null,
            "grid_gap": null,
            "grid_row": null,
            "grid_template_areas": null,
            "grid_template_columns": null,
            "grid_template_rows": null,
            "height": null,
            "justify_content": null,
            "justify_items": null,
            "left": null,
            "margin": null,
            "max_height": null,
            "max_width": null,
            "min_height": null,
            "min_width": null,
            "object_fit": null,
            "object_position": null,
            "order": null,
            "overflow": null,
            "overflow_x": null,
            "overflow_y": null,
            "padding": null,
            "right": null,
            "top": null,
            "visibility": null,
            "width": null
          }
        }
      }
    }
  },
  "nbformat": 4,
  "nbformat_minor": 0
}
